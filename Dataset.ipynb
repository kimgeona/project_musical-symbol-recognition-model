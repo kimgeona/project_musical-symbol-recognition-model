{
 "cells": [
  {
   "cell_type": "markdown",
   "metadata": {},
   "source": [
    "# 패키지"
   ]
  },
  {
   "cell_type": "code",
   "execution_count": null,
   "metadata": {},
   "outputs": [],
   "source": [
    "import os   # 운영체제 관련\n",
    "import MSRL # Musical Symbol Recognition Library"
   ]
  },
  {
   "cell_type": "markdown",
   "metadata": {},
   "source": [
    "# 데이터셋 합치기 : MSIG, MSIG, ... -> MSIG"
   ]
  },
  {
   "cell_type": "code",
   "execution_count": null,
   "metadata": {},
   "outputs": [],
   "source": [
    "# 합칠 데이터셋들\n",
    "dataset_dirs = [\n",
    "    os.path.join('.', 'datasets', 'MSIG_staff-start'),\n",
    "    os.path.join('.', 'datasets', 'MSIG_staff-end'),\n",
    "    os.path.join('.', 'datasets', 'MSIG_staff-note')\n",
    "]\n",
    "\n",
    "# 새로운 데이터셋 이름\n",
    "new_name = 'MSIG_symbols'\n",
    "\n",
    "# 데이터셋 생성\n",
    "MSRL.DatasetAssemble(dataset_dirs, new_name)"
   ]
  },
  {
   "cell_type": "markdown",
   "metadata": {},
   "source": [
    "# 데이터셋 변환 : MSIG -> TFDS(YOLOv11)"
   ]
  },
  {
   "cell_type": "code",
   "execution_count": null,
   "metadata": {},
   "outputs": [],
   "source": [
    "# 데이터셋 주소\n",
    "dataset_dir=os.path.join('.', 'datasets', 'MSIG_symbols')\n",
    "\n",
    "# 데이터셋 변환\n",
    "MSRL.datasets.DatasetConvert(dataset_dir)"
   ]
  }
 ],
 "metadata": {
  "language_info": {
   "name": "python"
  }
 },
 "nbformat": 4,
 "nbformat_minor": 2
}
