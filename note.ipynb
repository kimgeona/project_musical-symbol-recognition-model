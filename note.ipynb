{
 "cells": [
  {
   "cell_type": "markdown",
   "metadata": {},
   "source": [
    "# 패키지"
   ]
  },
  {
   "cell_type": "code",
   "execution_count": 1,
   "metadata": {},
   "outputs": [
    {
     "name": "stderr",
     "output_type": "stream",
     "text": [
      "c:\\Users\\chorokmoo_win\\.conda\\envs\\new\\lib\\site-packages\\tensorflow_addons\\utils\\tfa_eol_msg.py:23: UserWarning: \n",
      "\n",
      "TensorFlow Addons (TFA) has ended development and introduction of new features.\n",
      "TFA has entered a minimal maintenance and release mode until a planned end of life in May 2024.\n",
      "Please modify downstream libraries to take dependencies from other repositories in our TensorFlow community (e.g. Keras, Keras-CV, and Keras-NLP). \n",
      "\n",
      "For more information see: https://github.com/tensorflow/addons/issues/2807 \n",
      "\n",
      "  warnings.warn(\n"
     ]
    }
   ],
   "source": [
    "# 필요한 패키지\n",
    "import os                           # 운영체제\n",
    "import time                         # 시간\n",
    "import tensorflow as tf             # 텐서플로\n",
    "import tensorflow_addons as tfa     # 텐서플로 에드온\n",
    "import pandas as pd                 # 판다스\n",
    "import matplotlib.pyplot as plt     # 그래프 도구\n",
    "import MSRL                         # Musical Symbol Recognition Library"
   ]
  },
  {
   "cell_type": "markdown",
   "metadata": {},
   "source": [
    "# 모델 1"
   ]
  },
  {
   "cell_type": "code",
   "execution_count": null,
   "metadata": {},
   "outputs": [
    {
     "name": "stdout",
     "output_type": "stream",
     "text": [
      "-- TFDS label shape ------------------\n",
      "ds 0  : (22617, 133)\n",
      "\n",
      "-- TFDS label class count ------------------\n",
      "ds 0  : [1175, 1193, 1224, 1228, 1224, 1074, 537, 524, 544, 553, 1059, 1092, 1124, 1060, 1, 1, 1, 1, 1, 1, 1, 1, 1, 738, 745, 722, 748, 744, 746, 720, 750, 737, 702, 725, 724, 774, 750, 725, 722, 765, 719, 1, 1, 1, 1, 1, 1, 1, 1, 1, 1, 1, 1, 1, 1, 23, 1, 1, 11, 11, 11, 1655, 1612, 1622, 1585, 1619, 1582, 1641, 1589, 1516, 1622, 1639, 1626, 1587, 1607, 981, 1054, 1054, 987, 1047, 1035, 1036, 986, 1080, 1070, 1120, 1067, 1084, 1088, 1109, 5, 5, 5, 5, 1, 1, 1, 5, 5, 1968, 5, 5, 1, 1, 1, 1, 1, 1, 1, 1, 1, 1, 1, 1, 1, 1, 1, 47, 2017, 2036, 2073, 2055, 2058, 2117, 2082, 1978, 2025, 2022, 2050, 34, 23, 1, 1]\n",
      "\n",
      "-- MODEL input node ------------------\n",
      "[[22617, None, None, 1]]\n",
      "\n",
      "-- MODEL output node ------------------\n",
      "[[133]]\n"
     ]
    }
   ],
   "source": [
    "# 데이터셋 준비\n",
    "ds_1_train, ds_1_validation = msDataset.ds_1()"
   ]
  },
  {
   "cell_type": "code",
   "execution_count": null,
   "metadata": {},
   "outputs": [],
   "source": [
    "# 그래프 초기화\n",
    "tf.keras.backend.clear_session()\n",
    "\n",
    "with tf.device('/device:GPU:0'):\n",
    "    # 모델 존재 확인\n",
    "    if os.path.exists(model_dir_1): model_1 = tf.keras.models.load_model(model_dir_1)   # 모델 불러오기\n",
    "    else                          : model_1 = msModel.model_1()                         # 모델 생성\n",
    "\n",
    "    # 모델 학습 설정\n",
    "    #model_1.compile()\n",
    "\n",
    "    # 모델 훈련 및 저장\n",
    "    #history_1 = model_1.fit(\n",
    "    #    ds_1_train, \n",
    "    #    epochs=20, \n",
    "    #    initial_epoch=0, \n",
    "    #    validation_data=ds_1_validation, \n",
    "    #    callbacks=[cb_checkpoint_1, cb_early_stop]\n",
    "    #)"
   ]
  },
  {
   "cell_type": "markdown",
   "metadata": {},
   "source": [
    "# 모델 2"
   ]
  },
  {
   "cell_type": "code",
   "execution_count": null,
   "metadata": {},
   "outputs": [
    {
     "name": "stdout",
     "output_type": "stream",
     "text": [
      "-- TFDS label shape ------------------\n",
      "ds 0  : (22617, 12)\n",
      "\n",
      "-- TFDS label class count ------------------\n",
      "ds 0  : [22502, 6044, 7567, 13256, 8180, 7618, 2011, 9, 14, 58, 15, 2]\n",
      "\n",
      "-- MODEL input node ------------------\n",
      "[[22617, None, None, 1]]\n",
      "\n",
      "-- MODEL output node ------------------\n",
      "[[12]]\n"
     ]
    }
   ],
   "source": [
    "# 모델 주소\n",
    "model_dir_2 = os.path.join('.', 'models', 'model_2_CNN_MHA.h5')\n",
    "model_dir_epoch_2 = os.path.join('.', 'models', 'model_2_CNN_MHA-{epoch}.h5')\n",
    "tensorboard_dir = os.path.join('.', 'model_TB', 'model_2_CNN_MHA', time.strftime(\"%Y_%m_%d-%H_%M_%S\"))\n",
    "\n",
    "# 모델 콜백 함수\n",
    "cb_checkpoint_2 = tf.keras.callbacks.ModelCheckpoint(model_dir_epoch_2, monitor='loss', save_best_only=True)\n",
    "cb_early_stop_2 = tf.keras.callbacks.EarlyStopping(monitor='loss', patience=10, restore_best_weights=False)\n",
    "cb_tensorboard = tf.keras.callbacks.TensorBoard(tensorboard_dir)\n",
    "\n",
    "# 데이터셋 준비\n",
    "ds_2_train, ds_2_validation = msDataset.ds_2()\n",
    "#ds_2_train, ds_2_validation, ds_2_test = msDataset.ds_2()  # 추후 이런 식으로 변경할 예정"
   ]
  },
  {
   "cell_type": "code",
   "execution_count": null,
   "metadata": {},
   "outputs": [
    {
     "name": "stdout",
     "output_type": "stream",
     "text": [
      "Epoch 1/20\n",
      "697/697 [==============================] - 216s 266ms/step - loss: 3.2210 - Accuracy: 0.4159 - HammingScore: 0.9288 - val_loss: 3.5726 - val_Accuracy: 0.3250 - val_HammingScore: 0.9203\n",
      "Epoch 2/20\n",
      "697/697 [==============================] - 178s 256ms/step - loss: 1.8233 - Accuracy: 0.6284 - HammingScore: 0.9621 - val_loss: 43.6198 - val_Accuracy: 0.0500 - val_HammingScore: 0.7339\n",
      "Epoch 3/20\n",
      "697/697 [==============================] - 176s 252ms/step - loss: 1.3650 - Accuracy: 0.7219 - HammingScore: 0.9726 - val_loss: 2.1008 - val_Accuracy: 0.6562 - val_HammingScore: 0.9617\n",
      "Epoch 4/20\n",
      "697/697 [==============================] - 176s 252ms/step - loss: 1.6768 - Accuracy: 0.6830 - HammingScore: 0.9653 - val_loss: 1.3880 - val_Accuracy: 0.6719 - val_HammingScore: 0.9701\n",
      "Epoch 5/20\n",
      "697/697 [==============================] - 175s 251ms/step - loss: 1.2573 - Accuracy: 0.7244 - HammingScore: 0.9741 - val_loss: 3.8749 - val_Accuracy: 0.4125 - val_HammingScore: 0.9297\n",
      "Epoch 6/20\n",
      "697/697 [==============================] - 174s 250ms/step - loss: 0.8743 - Accuracy: 0.8090 - HammingScore: 0.9829 - val_loss: 0.7487 - val_Accuracy: 0.8219 - val_HammingScore: 0.9836\n",
      "Epoch 7/20\n",
      "697/697 [==============================] - 173s 248ms/step - loss: 0.7448 - Accuracy: 0.8485 - HammingScore: 0.9864 - val_loss: 20.0952 - val_Accuracy: 0.1750 - val_HammingScore: 0.8828\n",
      "Epoch 8/20\n",
      "697/697 [==============================] - 186s 267ms/step - loss: 0.6461 - Accuracy: 0.8723 - HammingScore: 0.9884 - val_loss: 0.3674 - val_Accuracy: 0.9344 - val_HammingScore: 0.9937\n",
      "Epoch 9/20\n",
      "697/697 [==============================] - 190s 272ms/step - loss: 1.2281 - Accuracy: 0.7737 - HammingScore: 0.9765 - val_loss: 3.8350 - val_Accuracy: 0.4000 - val_HammingScore: 0.9198\n",
      "Epoch 10/20\n",
      "697/697 [==============================] - 173s 248ms/step - loss: 1.0857 - Accuracy: 0.7589 - HammingScore: 0.9780 - val_loss: 4.0301 - val_Accuracy: 0.3750 - val_HammingScore: 0.9344\n",
      "Epoch 11/20\n",
      "697/697 [==============================] - 172s 247ms/step - loss: 0.8194 - Accuracy: 0.8485 - HammingScore: 0.9860 - val_loss: 0.3324 - val_Accuracy: 0.9156 - val_HammingScore: 0.9930\n",
      "Epoch 12/20\n",
      "697/697 [==============================] - 172s 247ms/step - loss: 1.1207 - Accuracy: 0.7889 - HammingScore: 0.9794 - val_loss: 0.5175 - val_Accuracy: 0.8906 - val_HammingScore: 0.9898\n",
      "Epoch 13/20\n",
      "697/697 [==============================] - 187s 268ms/step - loss: 0.6171 - Accuracy: 0.8877 - HammingScore: 0.9898 - val_loss: 0.4804 - val_Accuracy: 0.8844 - val_HammingScore: 0.9898\n",
      "Epoch 14/20\n",
      "697/697 [==============================] - 188s 270ms/step - loss: 0.4573 - Accuracy: 0.9255 - HammingScore: 0.9932 - val_loss: 2.0115 - val_Accuracy: 0.8219 - val_HammingScore: 0.9802\n",
      "Epoch 15/20\n",
      "697/697 [==============================] - 172s 246ms/step - loss: 0.5505 - Accuracy: 0.9114 - HammingScore: 0.9914 - val_loss: 2.7417 - val_Accuracy: 0.5531 - val_HammingScore: 0.9503\n",
      "Epoch 16/20\n",
      "697/697 [==============================] - 172s 247ms/step - loss: 0.7963 - Accuracy: 0.8518 - HammingScore: 0.9865 - val_loss: 47.6749 - val_Accuracy: 0.0312 - val_HammingScore: 0.7953\n",
      "Epoch 17/20\n",
      "697/697 [==============================] - 172s 246ms/step - loss: 0.7118 - Accuracy: 0.8673 - HammingScore: 0.9878 - val_loss: 0.2886 - val_Accuracy: 0.9219 - val_HammingScore: 0.9932\n",
      "Epoch 18/20\n",
      "697/697 [==============================] - 172s 246ms/step - loss: 0.3174 - Accuracy: 0.9501 - HammingScore: 0.9956 - val_loss: 0.9581 - val_Accuracy: 0.9156 - val_HammingScore: 0.9919\n",
      "Epoch 19/20\n",
      "697/697 [==============================] - 171s 246ms/step - loss: 0.9976 - Accuracy: 0.7978 - HammingScore: 0.9816 - val_loss: 1.9049 - val_Accuracy: 0.6687 - val_HammingScore: 0.9672\n",
      "Epoch 20/20\n",
      "697/697 [==============================] - 171s 246ms/step - loss: 0.9108 - Accuracy: 0.8109 - HammingScore: 0.9832 - val_loss: 18.5262 - val_Accuracy: 0.2031 - val_HammingScore: 0.8956\n"
     ]
    }
   ],
   "source": [
    "# 그래프 초기화\n",
    "tf.keras.backend.clear_session()\n",
    "\n",
    "with tf.device('/device:GPU:0'):\n",
    "    # 모델 존재 확인\n",
    "    if os.path.exists(model_dir_2): model_2 = tf.keras.models.load_model(model_dir_2) # 모델 불러오기\n",
    "    else:                           model_2 = msModel.model_2_CNN_MHA() # 모델 생성\n",
    "\n",
    "    # 모델 컴파일 설정\n",
    "    model_2.compile(\n",
    "        optimizer='adam',\n",
    "        loss=MSRL.losses.WeightedBinaryCrossentropy(22617, [22502, 6044, 7567, 13256, 8180,  7618, 2011, 9, 14, 58, 15, 2]),\n",
    "        metrics=[\n",
    "            MSRL.metrics.Accuracy(),                                # 정확도\n",
    "            MSRL.metrics.HammingScore(),                            # 해밍 점수\n",
    "            #tf.keras.metrics.Precision(),                           # 정밀도\n",
    "            #tf.keras.metrics.Recall(),                              # 재현율\n",
    "            #tfa.metrics.F1Score(num_classes=12, average='macro')    # f1-점수\n",
    "        ]\n",
    "    )\n",
    "\n",
    "    # 모델 훈련\n",
    "    history_2 = model_2.fit(\n",
    "        ds_2_train,\n",
    "        epochs=20,\n",
    "        initial_epoch=0,\n",
    "        validation_data=ds_2_validation,\n",
    "        callbacks=[cb_checkpoint_2, cb_early_stop_2, cb_tensorboard]\n",
    "    )\n",
    "\n",
    "    # 현재까지 학습된 모델 저장\n",
    "    model_2.save(model_dir_2)\n",
    "\n",
    "# 텐서보드 확인\n",
    "# tensorboard.exe --logdir=.\\model_TB\\model_2_CNN_MHA --port=6006"
   ]
  },
  {
   "cell_type": "markdown",
   "metadata": {},
   "source": [
    "# 모델 3"
   ]
  },
  {
   "cell_type": "code",
   "execution_count": null,
   "metadata": {},
   "outputs": [
    {
     "name": "stdout",
     "output_type": "stream",
     "text": [
      "-- TFDS label shape ------------------\n",
      "ds 0  : (22617, 12)\n",
      "ds 1  : (22617, 11)\n",
      "ds 2  : (22617, 14)\n",
      "ds 3  : (22617, 5)\n",
      "ds 4  : (22617, 9)\n",
      "ds 5  : (22617, 18)\n",
      "ds 6  : (22617, 8)\n",
      "ds 7  : (22617, 7)\n",
      "ds 8  : (22617, 12)\n",
      "ds 9  : (22617, 9)\n",
      "ds 10 : (22617, 14)\n",
      "ds 11 : (22617, 6)\n",
      "ds 12 : (22617, 15)\n",
      "ds 13 : (22617, 2)\n",
      "\n",
      "-- TFDS label class count ------------------\n",
      "ds 0  : [22502, 6044, 7567, 13256, 8180, 7618, 2011, 9, 14, 58, 15, 2]\n",
      "ds 1  : [2017, 2036, 2073, 2055, 2058, 2117, 2082, 1978, 2025, 2022, 2050]\n",
      "ds 2  : [1655, 1612, 1622, 1585, 1619, 1582, 1641, 1589, 1516, 1622, 1639, 1626, 1587, 1607]\n",
      "ds 3  : [1175, 1193, 1224, 1228, 1224]\n",
      "ds 4  : [1074, 537, 524, 544, 553, 1059, 1092, 1124, 1060]\n",
      "ds 5  : [738, 745, 722, 748, 744, 746, 720, 750, 737, 702, 725, 724, 774, 750, 725, 722, 765, 719]\n",
      "ds 6  : [981, 1054, 1054, 987, 1047, 1035, 1036, 986]\n",
      "ds 7  : [1080, 1070, 1120, 1067, 1084, 1088, 1109]\n",
      "ds 8  : [5, 5, 5, 5, 1, 1, 1, 5, 5, 1968, 5, 5]\n",
      "ds 9  : [1, 1, 1, 1, 1, 1, 1, 1, 1]\n",
      "ds 10 : [1, 1, 1, 1, 1, 1, 1, 1, 1, 1, 1, 1, 1, 1]\n",
      "ds 11 : [23, 1, 1, 11, 11, 11]\n",
      "ds 12 : [1, 1, 1, 1, 1, 1, 1, 1, 1, 1, 1, 1, 1, 1, 1]\n",
      "ds 13 : [1, 1]\n",
      "\n",
      "-- MODEL input node ------------------\n",
      "[[22617, None, None, 1]]\n",
      "\n",
      "-- MODEL output node ------------------\n",
      "[[12], [11], [14], [5], [9], [18], [8], [7], [12], [9], [14], [6], [15], [2]]\n"
     ]
    }
   ],
   "source": [
    "# 데이터셋 준비\n",
    "ds_3_train, ds_3_validation = msDataset.ds_3()"
   ]
  },
  {
   "cell_type": "code",
   "execution_count": null,
   "metadata": {},
   "outputs": [
    {
     "name": "stdout",
     "output_type": "stream",
     "text": [
      "Epoch 1/10\n",
      "697/697 [==============================] - 169s 177ms/step - loss: 0.4941 - all_loss: 0.0237 - pitch_loss: 0.1660 - note_loss: 0.0711 - accidental_loss: 0.0536 - articulation_loss: 0.0334 - dynamic_loss: 0.0326 - octave_loss: 0.0453 - ornament_loss: 0.0482 - repetition_loss: 1.7628e-04 - clef_loss: 1.1788e-04 - key_loss: 9.8481e-05 - measure_loss: 0.0193 - rest_loss: 1.2383e-04 - time_loss: 3.9371e-04 - all_accuracy: 3.5879e-04 - pitch_accuracy: 0.0893 - note_accuracy: 0.0783 - accidental_accuracy: 0.7804 - articulation_accuracy: 0.7085 - dynamic_accuracy: 0.4432 - octave_accuracy: 0.6722 - ornament_accuracy: 0.7067 - repetition_accuracy: 0.9056 - clef_accuracy: 0.9983 - key_accuracy: 0.9922 - measure_accuracy: 0.9956 - rest_accuracy: 0.9936 - time_accuracy: 0.9985 - val_loss: 0.4814 - val_all_loss: 0.0231 - val_pitch_loss: 0.1634 - val_note_loss: 0.0710 - val_accidental_loss: 0.0506 - val_articulation_loss: 0.0351 - val_dynamic_loss: 0.0319 - val_octave_loss: 0.0406 - val_ornament_loss: 0.0454 - val_repetition_loss: 9.3193e-06 - val_clef_loss: 0.0000e+00 - val_key_loss: 2.2321e-04 - val_measure_loss: 0.0201 - val_rest_loss: 0.0000e+00 - val_time_loss: 0.0000e+00 - val_all_accuracy: 0.0031 - val_pitch_accuracy: 0.1031 - val_note_accuracy: 0.0750 - val_accidental_accuracy: 0.7906 - val_articulation_accuracy: 0.7063 - val_dynamic_accuracy: 0.4344 - val_octave_accuracy: 0.7094 - val_ornament_accuracy: 0.7188 - val_repetition_accuracy: 0.9156 - val_clef_accuracy: 1.0000 - val_key_accuracy: 0.9969 - val_measure_accuracy: 0.9969 - val_rest_accuracy: 1.0000 - val_time_accuracy: 1.0000\n",
      "Epoch 2/10\n",
      "697/697 [==============================] - 111s 159ms/step - loss: 0.4917 - all_loss: 0.0230 - pitch_loss: 0.1660 - note_loss: 0.0710 - accidental_loss: 0.0535 - articulation_loss: 0.0331 - dynamic_loss: 0.0325 - octave_loss: 0.0452 - ornament_loss: 0.0481 - repetition_loss: 1.1678e-04 - clef_loss: 4.4849e-05 - key_loss: 4.4849e-05 - measure_loss: 0.0188 - rest_loss: 4.4849e-05 - time_loss: 4.4849e-05 - all_accuracy: 3.5879e-04 - pitch_accuracy: 0.0894 - note_accuracy: 0.0784 - accidental_accuracy: 0.7842 - articulation_accuracy: 0.7127 - dynamic_accuracy: 0.4467 - octave_accuracy: 0.6813 - ornament_accuracy: 0.7106 - repetition_accuracy: 0.9119 - clef_accuracy: 0.9996 - key_accuracy: 0.9994 - measure_accuracy: 0.9984 - rest_accuracy: 0.9994 - time_accuracy: 1.0000 - val_loss: 0.4938 - val_all_loss: 0.0228 - val_pitch_loss: 0.1688 - val_note_loss: 0.0711 - val_accidental_loss: 0.0587 - val_articulation_loss: 0.0310 - val_dynamic_loss: 0.0337 - val_octave_loss: 0.0504 - val_ornament_loss: 0.0384 - val_repetition_loss: 1.4448e-04 - val_clef_loss: 0.0000e+00 - val_key_loss: 0.0000e+00 - val_measure_loss: 0.0187 - val_rest_loss: 0.0000e+00 - val_time_loss: 0.0000e+00 - val_all_accuracy: 0.0000e+00 - val_pitch_accuracy: 0.0750 - val_note_accuracy: 0.0594 - val_accidental_accuracy: 0.7531 - val_articulation_accuracy: 0.7250 - val_dynamic_accuracy: 0.4125 - val_octave_accuracy: 0.6562 - val_ornament_accuracy: 0.7594 - val_repetition_accuracy: 0.9187 - val_clef_accuracy: 1.0000 - val_key_accuracy: 1.0000 - val_measure_accuracy: 1.0000 - val_rest_accuracy: 1.0000 - val_time_accuracy: 1.0000\n",
      "Epoch 3/10\n",
      "697/697 [==============================] - 110s 157ms/step - loss: 0.4917 - all_loss: 0.0230 - pitch_loss: 0.1660 - note_loss: 0.0710 - accidental_loss: 0.0536 - articulation_loss: 0.0331 - dynamic_loss: 0.0326 - octave_loss: 0.0452 - ornament_loss: 0.0481 - repetition_loss: 1.1686e-04 - clef_loss: 4.4849e-05 - key_loss: 4.1646e-05 - measure_loss: 0.0188 - rest_loss: 4.1859e-05 - time_loss: 4.4849e-05 - all_accuracy: 3.5879e-04 - pitch_accuracy: 0.0894 - note_accuracy: 0.0786 - accidental_accuracy: 0.7841 - articulation_accuracy: 0.7123 - dynamic_accuracy: 0.4463 - octave_accuracy: 0.6818 - ornament_accuracy: 0.7112 - repetition_accuracy: 0.9112 - clef_accuracy: 0.9996 - key_accuracy: 0.9995 - measure_accuracy: 0.9984 - rest_accuracy: 0.9994 - time_accuracy: 1.0000 - val_loss: 0.4907 - val_all_loss: 0.0249 - val_pitch_loss: 0.1681 - val_note_loss: 0.0711 - val_accidental_loss: 0.0575 - val_articulation_loss: 0.0320 - val_dynamic_loss: 0.0341 - val_octave_loss: 0.0394 - val_ornament_loss: 0.0432 - val_repetition_loss: 1.2081e-05 - val_clef_loss: 0.0000e+00 - val_key_loss: 0.0000e+00 - val_measure_loss: 0.0188 - val_rest_loss: 0.0000e+00 - val_time_loss: 0.0016 - val_all_accuracy: 0.0000e+00 - val_pitch_accuracy: 0.0781 - val_note_accuracy: 0.0875 - val_accidental_accuracy: 0.7812 - val_articulation_accuracy: 0.7094 - val_dynamic_accuracy: 0.4250 - val_octave_accuracy: 0.7312 - val_ornament_accuracy: 0.7375 - val_repetition_accuracy: 0.8906 - val_clef_accuracy: 1.0000 - val_key_accuracy: 1.0000 - val_measure_accuracy: 1.0000 - val_rest_accuracy: 1.0000 - val_time_accuracy: 0.9969\n",
      "Epoch 4/10\n",
      "697/697 [==============================] - 109s 156ms/step - loss: 0.4913 - all_loss: 0.0230 - pitch_loss: 0.1660 - note_loss: 0.0710 - accidental_loss: 0.0533 - articulation_loss: 0.0330 - dynamic_loss: 0.0325 - octave_loss: 0.0452 - ornament_loss: 0.0481 - repetition_loss: 1.1685e-04 - clef_loss: 4.4849e-05 - key_loss: 4.4849e-05 - measure_loss: 0.0188 - rest_loss: 4.4849e-05 - time_loss: 4.4849e-05 - all_accuracy: 3.5879e-04 - pitch_accuracy: 0.0896 - note_accuracy: 0.0780 - accidental_accuracy: 0.7854 - articulation_accuracy: 0.7131 - dynamic_accuracy: 0.4469 - octave_accuracy: 0.6814 - ornament_accuracy: 0.7107 - repetition_accuracy: 0.9112 - clef_accuracy: 0.9996 - key_accuracy: 0.9994 - measure_accuracy: 0.9984 - rest_accuracy: 0.9994 - time_accuracy: 1.0000 - val_loss: 0.4847 - val_all_loss: 0.0230 - val_pitch_loss: 0.1611 - val_note_loss: 0.0708 - val_accidental_loss: 0.0531 - val_articulation_loss: 0.0315 - val_dynamic_loss: 0.0333 - val_octave_loss: 0.0464 - val_ornament_loss: 0.0461 - val_repetition_loss: 1.4241e-04 - val_clef_loss: 0.0000e+00 - val_key_loss: 0.0000e+00 - val_measure_loss: 0.0189 - val_rest_loss: 2.0833e-04 - val_time_loss: 0.0000e+00 - val_all_accuracy: 0.0000e+00 - val_pitch_accuracy: 0.1156 - val_note_accuracy: 0.0500 - val_accidental_accuracy: 0.7844 - val_articulation_accuracy: 0.7125 - val_dynamic_accuracy: 0.4313 - val_octave_accuracy: 0.6781 - val_ornament_accuracy: 0.7219 - val_repetition_accuracy: 0.9375 - val_clef_accuracy: 1.0000 - val_key_accuracy: 1.0000 - val_measure_accuracy: 0.9969 - val_rest_accuracy: 0.9969 - val_time_accuracy: 1.0000\n",
      "Epoch 5/10\n",
      "697/697 [==============================] - 108s 155ms/step - loss: 0.4915 - all_loss: 0.0230 - pitch_loss: 0.1660 - note_loss: 0.0710 - accidental_loss: 0.0535 - articulation_loss: 0.0330 - dynamic_loss: 0.0326 - octave_loss: 0.0452 - ornament_loss: 0.0481 - repetition_loss: 1.1489e-04 - clef_loss: 4.4849e-05 - key_loss: 4.1646e-05 - measure_loss: 0.0188 - rest_loss: 4.4849e-05 - time_loss: 4.4849e-05 - all_accuracy: 3.5879e-04 - pitch_accuracy: 0.0895 - note_accuracy: 0.0783 - accidental_accuracy: 0.7845 - articulation_accuracy: 0.7134 - dynamic_accuracy: 0.4463 - octave_accuracy: 0.6816 - ornament_accuracy: 0.7111 - repetition_accuracy: 0.9114 - clef_accuracy: 0.9996 - key_accuracy: 0.9995 - measure_accuracy: 0.9984 - rest_accuracy: 0.9994 - time_accuracy: 1.0000 - val_loss: 0.4907 - val_all_loss: 0.0236 - val_pitch_loss: 0.1713 - val_note_loss: 0.0710 - val_accidental_loss: 0.0499 - val_articulation_loss: 0.0305 - val_dynamic_loss: 0.0310 - val_octave_loss: 0.0449 - val_ornament_loss: 0.0492 - val_repetition_loss: 1.1390e-05 - val_clef_loss: 3.4722e-04 - val_key_loss: 2.2321e-04 - val_measure_loss: 0.0188 - val_rest_loss: 0.0000e+00 - val_time_loss: 0.0000e+00 - val_all_accuracy: 0.0000e+00 - val_pitch_accuracy: 0.0594 - val_note_accuracy: 0.0812 - val_accidental_accuracy: 0.7906 - val_articulation_accuracy: 0.7375 - val_dynamic_accuracy: 0.4719 - val_octave_accuracy: 0.6906 - val_ornament_accuracy: 0.7000 - val_repetition_accuracy: 0.8969 - val_clef_accuracy: 0.9969 - val_key_accuracy: 0.9969 - val_measure_accuracy: 1.0000 - val_rest_accuracy: 1.0000 - val_time_accuracy: 1.0000\n",
      "Epoch 6/10\n",
      "697/697 [==============================] - 108s 156ms/step - loss: 0.4916 - all_loss: 0.0230 - pitch_loss: 0.1661 - note_loss: 0.0710 - accidental_loss: 0.0535 - articulation_loss: 0.0330 - dynamic_loss: 0.0325 - octave_loss: 0.0451 - ornament_loss: 0.0482 - repetition_loss: 1.1295e-04 - clef_loss: 4.4849e-05 - key_loss: 4.4849e-05 - measure_loss: 0.0188 - rest_loss: 4.4849e-05 - time_loss: 4.4849e-05 - all_accuracy: 3.5879e-04 - pitch_accuracy: 0.0891 - note_accuracy: 0.0787 - accidental_accuracy: 0.7844 - articulation_accuracy: 0.7132 - dynamic_accuracy: 0.4468 - octave_accuracy: 0.6820 - ornament_accuracy: 0.7104 - repetition_accuracy: 0.9113 - clef_accuracy: 0.9996 - key_accuracy: 0.9994 - measure_accuracy: 0.9985 - rest_accuracy: 0.9994 - time_accuracy: 1.0000 - val_loss: 0.5016 - val_all_loss: 0.0231 - val_pitch_loss: 0.1673 - val_note_loss: 0.0709 - val_accidental_loss: 0.0568 - val_articulation_loss: 0.0325 - val_dynamic_loss: 0.0336 - val_octave_loss: 0.0456 - val_ornament_loss: 0.0521 - val_repetition_loss: 6.8894e-04 - val_clef_loss: 0.0000e+00 - val_key_loss: 0.0000e+00 - val_measure_loss: 0.0188 - val_rest_loss: 2.0833e-04 - val_time_loss: 0.0000e+00 - val_all_accuracy: 0.0000e+00 - val_pitch_accuracy: 0.0812 - val_note_accuracy: 0.0844 - val_accidental_accuracy: 0.7656 - val_articulation_accuracy: 0.7250 - val_dynamic_accuracy: 0.4313 - val_octave_accuracy: 0.6750 - val_ornament_accuracy: 0.6781 - val_repetition_accuracy: 0.9094 - val_clef_accuracy: 1.0000 - val_key_accuracy: 1.0000 - val_measure_accuracy: 1.0000 - val_rest_accuracy: 0.9969 - val_time_accuracy: 1.0000\n"
     ]
    }
   ],
   "source": [
    "# 그래프 초기화\n",
    "tf.keras.backend.clear_session()\n",
    "\n",
    "with tf.device('/device:GPU:0'):\n",
    "    # 모델 존재 확인\n",
    "    if os.path.exists(model_dir_3): model_3 = tf.keras.models.load_model(model_dir_3)   # 모델 불러오기\n",
    "    else                          : model_3 = msModel.model_3()                         # 모델 생성\n",
    "\n",
    "    # 모델 학습 설정\n",
    "    #model_3.compile()\n",
    "\n",
    "    # 모델 훈련 및 저장\n",
    "    #history_3 = model_3.fit(\n",
    "    #    ds_3_train, \n",
    "    #    epochs=20, \n",
    "    #    initial_epoch=0, \n",
    "    #    validation_data=ds_3_validation, \n",
    "    #    callbacks=[cb_checkpoint_3, cb_early_stop]\n",
    "    #)"
   ]
  }
 ],
 "metadata": {
  "kernelspec": {
   "display_name": "new",
   "language": "python",
   "name": "python3"
  },
  "language_info": {
   "codemirror_mode": {
    "name": "ipython",
    "version": 3
   },
   "file_extension": ".py",
   "mimetype": "text/x-python",
   "name": "python",
   "nbconvert_exporter": "python",
   "pygments_lexer": "ipython3",
   "version": "3.10.14"
  }
 },
 "nbformat": 4,
 "nbformat_minor": 2
}
