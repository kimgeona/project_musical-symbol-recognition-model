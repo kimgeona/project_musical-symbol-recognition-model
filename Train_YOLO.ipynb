{
 "cells": [
  {
   "cell_type": "markdown",
   "metadata": {},
   "source": [
    "# 설치 확인"
   ]
  },
  {
   "cell_type": "code",
   "execution_count": 1,
   "metadata": {},
   "outputs": [
    {
     "name": "stdout",
     "output_type": "stream",
     "text": [
      "\u001b[2K\n",
      "\u001b[2K\n",
      "Ultralytics 8.3.5 🚀 Python-3.10.15 torch-2.4.1+cu124 CUDA:0 (NVIDIA GeForce RTX 2070 SUPER, 8192MiB)\n",
      "Setup complete ✅ (16 CPUs, 15.4 GB RAM, 390.8/412.2 GB disk)\n",
      "\n",
      "OS                  Windows-10-10.0.22631-SP0\n",
      "Environment         Windows\n",
      "Python              3.10.15\n",
      "Install             pip\n",
      "RAM                 15.38 GB\n",
      "CPU                 AMD Ryzen 7 5700G with Radeon Graphics\n",
      "CUDA                12.4\n",
      "\n",
      "numpy               ✅ 1.26.3>=1.23.0\n",
      "matplotlib          ✅ 3.9.2>=3.3.0\n",
      "opencv-python       ✅ 4.10.0.84>=4.6.0\n",
      "pillow              ✅ 10.2.0>=7.1.2\n",
      "pyyaml              ✅ 6.0.2>=5.3.1\n",
      "requests            ✅ 2.32.3>=2.23.0\n",
      "scipy               ✅ 1.14.1>=1.4.1\n",
      "torch               ✅ 2.4.1+cu124>=1.8.0\n",
      "torchvision         ✅ 0.19.1+cu124>=0.9.0\n",
      "tqdm                ✅ 4.66.5>=4.64.0\n",
      "psutil              ✅ 6.0.0\n",
      "py-cpuinfo          ✅ 9.0.0\n",
      "pandas              ✅ 2.2.3>=1.1.4\n",
      "seaborn             ✅ 0.13.2>=0.11.0\n",
      "ultralytics-thop    ✅ 2.0.9>=2.0.0\n",
      "torch               ✅ 2.4.1+cu124!=2.4.0,>=1.8.0; sys_platform == \"win32\"\n"
     ]
    }
   ],
   "source": [
    "# 확인\n",
    "!yolo checks"
   ]
  },
  {
   "cell_type": "markdown",
   "metadata": {},
   "source": [
    "# 모델 새로 훈련"
   ]
  },
  {
   "cell_type": "code",
   "execution_count": 2,
   "metadata": {},
   "outputs": [],
   "source": [
    "# 패키지\n",
    "from ultralytics import YOLO\n",
    "\n",
    "# 모델 불러오기\n",
    "model = YOLO('./models/yolo11n.pt')"
   ]
  },
  {
   "cell_type": "code",
   "execution_count": null,
   "metadata": {},
   "outputs": [],
   "source": [
    "# 모델 학습시키기\n",
    "model.train(\n",
    "    data='./datasets/TDFS_symbols.yaml',\n",
    "    epochs=10, imgsz=416\n",
    ")"
   ]
  },
  {
   "cell_type": "markdown",
   "metadata": {},
   "source": [
    "# 모델 이어서 훈련"
   ]
  },
  {
   "cell_type": "code",
   "execution_count": 2,
   "metadata": {},
   "outputs": [],
   "source": [
    "# 패키지\n",
    "from ultralytics import YOLO\n",
    "\n",
    "# 이전에 저장된 모델 가중치 경로를 지정하여 불러오기\n",
    "model = YOLO('runs/detect/train2/weights/last.pt')  # 이 경로는 체크포인트가 저장된 위치에 따라 변경해야 합니다."
   ]
  },
  {
   "cell_type": "code",
   "execution_count": null,
   "metadata": {},
   "outputs": [],
   "source": [
    "# 모델 학습시키기\n",
    "model.train(\n",
    "    data='./datasets/TDFS_symbols.yaml',\n",
    "    epochs=10, imgsz=416\n",
    ")"
   ]
  }
 ],
 "metadata": {
  "kernelspec": {
   "display_name": "YOLO",
   "language": "python",
   "name": "python3"
  },
  "language_info": {
   "codemirror_mode": {
    "name": "ipython",
    "version": 3
   },
   "file_extension": ".py",
   "mimetype": "text/x-python",
   "name": "python",
   "nbconvert_exporter": "python",
   "pygments_lexer": "ipython3",
   "version": "3.10.15"
  }
 },
 "nbformat": 4,
 "nbformat_minor": 2
}
