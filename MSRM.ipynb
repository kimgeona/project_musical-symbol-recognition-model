{
 "cells": [
  {
   "cell_type": "markdown",
   "metadata": {},
   "source": [
    "# 패키지"
   ]
  },
  {
   "cell_type": "code",
   "execution_count": 1,
   "metadata": {},
   "outputs": [],
   "source": [
    "import MSRM"
   ]
  },
  {
   "cell_type": "markdown",
   "metadata": {},
   "source": [
    "# 모델 생성"
   ]
  },
  {
   "cell_type": "code",
   "execution_count": 2,
   "metadata": {},
   "outputs": [],
   "source": [
    "# 이미지 인식 모델 생성\n",
    "model = MSRM.SymbolDetector(\n",
    "    ['sheet_1.png', 'sheet_2.png', 'sheet_3.png', 'sheet_4.png'],\n",
    "    note_confidences=0.5,   # 확률이 note_confidences가 넘는 이미지들만 추출\n",
    "    note_iou_threshold=0.1  # 동일한 위치의 악상기호가 겹치는 비율이 note_iou_threshold이상이면 제거 작업\n",
    ")"
   ]
  },
  {
   "cell_type": "markdown",
   "metadata": {},
   "source": [
    "# 클래스 레이블 준비"
   ]
  },
  {
   "cell_type": "code",
   "execution_count": 3,
   "metadata": {},
   "outputs": [],
   "source": [
    "# 클래스별 이름들\n",
    "class_names=[               \n",
    "    'staff',\n",
    "    'clef',\n",
    "    'key',\n",
    "    'measure',\n",
    "    'rest',\n",
    "    'time',\n",
    "    'note', \n",
    "    'accidental',\n",
    "    'articulation',\n",
    "    'dynamic',\n",
    "    'glissando',\n",
    "    'octave',\n",
    "    'ornament',\n",
    "    'repetition',\n",
    "    'tie'\n",
    "]"
   ]
  },
  {
   "cell_type": "markdown",
   "metadata": {},
   "source": [
    "# 모델 인식 (과정 보여주기)"
   ]
  },
  {
   "cell_type": "code",
   "execution_count": null,
   "metadata": {},
   "outputs": [],
   "source": [
    "# 악상기호 인식 시작\n",
    "images, datas = model.detact(preview=True)"
   ]
  },
  {
   "cell_type": "markdown",
   "metadata": {},
   "source": [
    "# 모델 인식 (결과 보여주기)"
   ]
  },
  {
   "cell_type": "code",
   "execution_count": null,
   "metadata": {},
   "outputs": [],
   "source": [
    "# 악상기호 인식 시작\n",
    "images, datas = model.detact(preview=False)\n",
    "\n",
    "# 미리보기\n",
    "for image, data in zip(images, datas):\n",
    "    MSRM.preview(\n",
    "        image,                      # 이미지\n",
    "        data[0], data[1], data[2],  # 바운딩 박스 데이터: boxes, confidence, class\n",
    "        class_names=class_names,    # 클래스별 이름들\n",
    "        window_height=900   # 미리보기할 이미지 창의 높이\n",
    "    )"
   ]
  },
  {
   "cell_type": "markdown",
   "metadata": {},
   "source": [
    "# 모델 인식 (결과 저장)"
   ]
  },
  {
   "cell_type": "code",
   "execution_count": null,
   "metadata": {},
   "outputs": [],
   "source": [
    "# 악상기호 인식 시작\n",
    "images, datas = model.detact(preview=False)\n",
    "\n",
    "# 미리보기\n",
    "count = 0\n",
    "for image, data in zip(images, datas):\n",
    "    MSRM.save(\n",
    "        image,                      # 이미지\n",
    "        str(count)+'.png',          # 저장할 이름\n",
    "        data[0], data[1], data[2],  # 바운딩 박스 데이터: boxes, confidence, class\n",
    "        class_names=class_names,    # 클래스별 이름들\n",
    "    )\n",
    "    count += 1 "
   ]
  }
 ],
 "metadata": {
  "kernelspec": {
   "display_name": "YOLO",
   "language": "python",
   "name": "python3"
  },
  "language_info": {
   "codemirror_mode": {
    "name": "ipython",
    "version": 3
   },
   "file_extension": ".py",
   "mimetype": "text/x-python",
   "name": "python",
   "nbconvert_exporter": "python",
   "pygments_lexer": "ipython3",
   "version": "3.10.15"
  }
 },
 "nbformat": 4,
 "nbformat_minor": 2
}
