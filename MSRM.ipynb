{
 "cells": [
  {
   "cell_type": "markdown",
   "metadata": {},
   "source": [
    "# 패키지"
   ]
  },
  {
   "cell_type": "code",
   "execution_count": 1,
   "metadata": {},
   "outputs": [
    {
     "name": "stderr",
     "output_type": "stream",
     "text": [
      "/Users/chorokmoo/_MyDev/_Anaconda/anaconda3/envs/new2/lib/python3.10/site-packages/tensorflow_addons/utils/tfa_eol_msg.py:23: UserWarning: \n",
      "\n",
      "TensorFlow Addons (TFA) has ended development and introduction of new features.\n",
      "TFA has entered a minimal maintenance and release mode until a planned end of life in May 2024.\n",
      "Please modify downstream libraries to take dependencies from other repositories in our TensorFlow community (e.g. Keras, Keras-CV, and Keras-NLP). \n",
      "\n",
      "For more information see: https://github.com/tensorflow/addons/issues/2807 \n",
      "\n",
      "  warnings.warn(\n"
     ]
    }
   ],
   "source": [
    "import os                           # 운영체제\n",
    "import tensorflow as tf             # 텐서플로\n",
    "import pandas as pd                 # 판다스\n",
    "import matplotlib.pyplot as plt     # 그래프 도구\n",
    "import my_models as mymod           # 케라스 사용자 모델\n",
    "import my_dataset as myds           # 데이터셋 생성기"
   ]
  },
  {
   "cell_type": "markdown",
   "metadata": {},
   "source": [
    "# GPU 설정"
   ]
  },
  {
   "cell_type": "code",
   "execution_count": 2,
   "metadata": {},
   "outputs": [],
   "source": [
    "# 사용 가능한 모든 GPU 리스트\n",
    "gpus = tf.config.list_physical_devices('GPU')\n",
    "\n",
    "# 사용할 프로세서 선택 : GPU\n",
    "if gpus:\n",
    "    try: tf.config.set_visible_devices(gpus[0], 'GPU')\n",
    "    except RuntimeError as e: print(e)"
   ]
  },
  {
   "cell_type": "markdown",
   "metadata": {},
   "source": [
    "# 데이터셋"
   ]
  },
  {
   "cell_type": "code",
   "execution_count": 3,
   "metadata": {},
   "outputs": [
    {
     "name": "stdout",
     "output_type": "stream",
     "text": [
      "Metal device set to: Apple M1\n",
      "\n",
      "systemMemory: 16.00 GB\n",
      "maxCacheSize: 5.33 GB\n",
      "\n",
      "전체 분류\n",
      "--------------------------------\n",
      "df_all          : (22617, 12)\n",
      "\n",
      "세부 분류\n",
      "--------------------------------\n",
      "df_pitch        : (22617, 11)\n",
      "df_note         : (22617, 14)\n",
      "df_accidental   : (22617, 5)\n",
      "df_articulation : (22617, 9)\n",
      "df_dynamic      : (22617, 18)\n",
      "df_octave       : (22617, 8)\n",
      "df_ornament     : (22617, 7)\n",
      "df_repetition   : (22617, 12)\n",
      "df_clef         : (22617, 9)\n",
      "df_key          : (22617, 14)\n",
      "df_measure      : (22617, 6)\n",
      "df_rest         : (22617, 15)\n",
      "df_time         : (22617, 2)\n"
     ]
    }
   ],
   "source": [
    "ds = myds.make()\n",
    "ds_validation = ds.take(320).batch(32).prefetch(tf.data.experimental.AUTOTUNE)  # 훈련 데이터셋\n",
    "ds_train = ds.skip(320).batch(32)                                               # 검증 데이터셋"
   ]
  },
  {
   "cell_type": "markdown",
   "metadata": {},
   "source": [
    "# 콜백 함수"
   ]
  },
  {
   "cell_type": "code",
   "execution_count": 4,
   "metadata": {},
   "outputs": [],
   "source": [
    "# 모델 주소\n",
    "model_dir = os.path.join('.', 'models', 'msrm.h5')\n",
    "\n",
    "# 최상의 모델 저장\n",
    "cb_checkpoint = tf.keras.callbacks.ModelCheckpoint(model_dir, save_best_only=True)\n",
    "cb_early_stop = tf.keras.callbacks.EarlyStopping(patience=20, restore_best_weights=True)"
   ]
  },
  {
   "cell_type": "markdown",
   "metadata": {},
   "source": [
    "# 모델 생성 및 학습"
   ]
  },
  {
   "cell_type": "code",
   "execution_count": 5,
   "metadata": {},
   "outputs": [
    {
     "name": "stdout",
     "output_type": "stream",
     "text": [
      "Epoch 1/10\n"
     ]
    },
    {
     "name": "stderr",
     "output_type": "stream",
     "text": [
      "2024-07-18 16:22:02.768224: W tensorflow/tsl/platform/profile_utils/cpu_utils.cc:128] Failed to get CPU frequency: 0 Hz\n"
     ]
    },
    {
     "name": "stdout",
     "output_type": "stream",
     "text": [
      "697/697 [==============================] - 672s 936ms/step - loss: 9.4754 - all_loss: 0.1766 - pitch_loss: 2.3881 - note_loss: 2.6266 - accidental_loss: 0.4306 - articulation_loss: 0.7206 - dynamic_loss: 1.6952 - octave_loss: 0.7530 - ornament_loss: 0.6554 - repetition_loss: 0.0207 - clef_loss: 9.2501e-04 - key_loss: 0.0017 - measure_loss: 0.0041 - rest_loss: 0.0019 - time_loss: 7.1702e-05 - all_accuracy: 0.9501 - pitch_accuracy: 0.0889 - note_accuracy: 0.0681 - accidental_accuracy: 0.0893 - articulation_accuracy: 0.0486 - dynamic_accuracy: 0.0317 - octave_accuracy: 0.0430 - ornament_accuracy: 0.1110 - repetition_accuracy: 0.0868 - clef_accuracy: 0.2167 - key_accuracy: 0.4444 - measure_accuracy: 0.8251 - rest_accuracy: 4.4849e-05 - time_accuracy: 4.4849e-05 - val_loss: 9.3390 - val_all_loss: 0.1015 - val_pitch_loss: 2.3848 - val_note_loss: 2.6199 - val_accidental_loss: 0.4030 - val_articulation_loss: 0.7081 - val_dynamic_loss: 1.6798 - val_octave_loss: 0.7278 - val_ornament_loss: 0.6801 - val_repetition_loss: 0.0236 - val_clef_loss: 0.0071 - val_key_loss: 0.0000e+00 - val_measure_loss: 0.0033 - val_rest_loss: 0.0000e+00 - val_time_loss: 0.0000e+00 - val_all_accuracy: 0.9656 - val_pitch_accuracy: 0.0750 - val_note_accuracy: 0.0906 - val_accidental_accuracy: 0.0406 - val_articulation_accuracy: 0.0437 - val_dynamic_accuracy: 0.0406 - val_octave_accuracy: 0.0375 - val_ornament_accuracy: 0.0625 - val_repetition_accuracy: 0.0844 - val_clef_accuracy: 0.0000e+00 - val_key_accuracy: 0.0000e+00 - val_measure_accuracy: 1.0000 - val_rest_accuracy: 0.0000e+00 - val_time_accuracy: 0.0000e+00\n",
      "Epoch 2/10\n",
      "697/697 [==============================] - 1244s 2s/step - loss: 9.3472 - all_loss: 0.0632 - pitch_loss: 2.3871 - note_loss: 2.6257 - accidental_loss: 0.4299 - articulation_loss: 0.7177 - dynamic_loss: 1.6940 - octave_loss: 0.7515 - ornament_loss: 0.6546 - repetition_loss: 0.0151 - clef_loss: 9.1323e-04 - key_loss: 0.0017 - measure_loss: 0.0039 - rest_loss: 0.0018 - time_loss: 6.6852e-05 - all_accuracy: 0.8744 - pitch_accuracy: 0.0883 - note_accuracy: 0.0755 - accidental_accuracy: 0.0543 - articulation_accuracy: 0.0930 - dynamic_accuracy: 0.1327 - octave_accuracy: 0.0440 - ornament_accuracy: 0.0493 - repetition_accuracy: 0.0870 - clef_accuracy: 0.3039 - key_accuracy: 0.4617 - measure_accuracy: 0.9985 - rest_accuracy: 4.4849e-05 - time_accuracy: 4.4849e-05 - val_loss: 9.4429 - val_all_loss: 0.0402 - val_pitch_loss: 2.3733 - val_note_loss: 2.6074 - val_accidental_loss: 0.4022 - val_articulation_loss: 0.7486 - val_dynamic_loss: 1.7248 - val_octave_loss: 0.7849 - val_ornament_loss: 0.6938 - val_repetition_loss: 0.0550 - val_clef_loss: 0.0000e+00 - val_key_loss: 0.0000e+00 - val_measure_loss: 0.0128 - val_rest_loss: 0.0000e+00 - val_time_loss: 0.0000e+00 - val_all_accuracy: 0.8031 - val_pitch_accuracy: 0.1063 - val_note_accuracy: 0.0562 - val_accidental_accuracy: 0.0594 - val_articulation_accuracy: 0.0594 - val_dynamic_accuracy: 0.0406 - val_octave_accuracy: 0.0344 - val_ornament_accuracy: 0.0406 - val_repetition_accuracy: 0.0875 - val_clef_accuracy: 1.0000 - val_key_accuracy: 0.0000e+00 - val_measure_accuracy: 0.9969 - val_rest_accuracy: 0.0000e+00 - val_time_accuracy: 0.0000e+00\n",
      "Epoch 3/10\n",
      "697/697 [==============================] - 717s 1s/step - loss: 9.3162 - all_loss: 0.0282 - pitch_loss: 2.3870 - note_loss: 2.6258 - accidental_loss: 0.4308 - articulation_loss: 0.7189 - dynamic_loss: 1.6938 - octave_loss: 0.7524 - ornament_loss: 0.6562 - repetition_loss: 0.0147 - clef_loss: 8.9729e-04 - key_loss: 0.0017 - measure_loss: 0.0039 - rest_loss: 0.0018 - time_loss: 3.2041e-05 - all_accuracy: 0.8054 - pitch_accuracy: 0.0936 - note_accuracy: 0.0738 - accidental_accuracy: 0.0515 - articulation_accuracy: 0.1395 - dynamic_accuracy: 0.0328 - octave_accuracy: 0.0469 - ornament_accuracy: 0.0496 - repetition_accuracy: 0.0872 - clef_accuracy: 0.1263 - key_accuracy: 0.3482 - measure_accuracy: 0.9984 - rest_accuracy: 0.0000e+00 - time_accuracy: 0.5111 - val_loss: 9.2983 - val_all_loss: 0.0148 - val_pitch_loss: 2.4019 - val_note_loss: 2.6395 - val_accidental_loss: 0.4775 - val_articulation_loss: 0.7218 - val_dynamic_loss: 1.6350 - val_octave_loss: 0.6831 - val_ornament_loss: 0.7243 - val_repetition_loss: 3.6790e-04 - val_clef_loss: 0.0000e+00 - val_key_loss: 0.0000e+00 - val_measure_loss: 0.0000e+00 - val_rest_loss: 0.0000e+00 - val_time_loss: 0.0000e+00 - val_all_accuracy: 0.8156 - val_pitch_accuracy: 0.0719 - val_note_accuracy: 0.0750 - val_accidental_accuracy: 0.0625 - val_articulation_accuracy: 0.0375 - val_dynamic_accuracy: 0.0406 - val_octave_accuracy: 0.0437 - val_ornament_accuracy: 0.0531 - val_repetition_accuracy: 0.0750 - val_clef_accuracy: 0.0000e+00 - val_key_accuracy: 1.0000 - val_measure_accuracy: 1.0000 - val_rest_accuracy: 0.0000e+00 - val_time_accuracy: 1.0000\n",
      "Epoch 4/10\n",
      "697/697 [==============================] - 640s 917ms/step - loss: 9.2985 - all_loss: 0.0156 - pitch_loss: 2.3871 - note_loss: 2.6256 - accidental_loss: 0.4294 - articulation_loss: 0.7165 - dynamic_loss: 1.6943 - octave_loss: 0.7526 - ornament_loss: 0.6550 - repetition_loss: 0.0141 - clef_loss: 8.9639e-04 - key_loss: 0.0017 - measure_loss: 0.0039 - rest_loss: 0.0018 - time_loss: 6.9735e-05 - all_accuracy: 0.8228 - pitch_accuracy: 0.0892 - note_accuracy: 0.0745 - accidental_accuracy: 0.0539 - articulation_accuracy: 0.0930 - dynamic_accuracy: 0.0332 - octave_accuracy: 0.0461 - ornament_accuracy: 0.0932 - repetition_accuracy: 0.0869 - clef_accuracy: 0.0252 - key_accuracy: 0.5486 - measure_accuracy: 0.9985 - rest_accuracy: 0.0000e+00 - time_accuracy: 1.0000 - val_loss: 9.1706 - val_all_loss: 0.0068 - val_pitch_loss: 2.3890 - val_note_loss: 2.6219 - val_accidental_loss: 0.4375 - val_articulation_loss: 0.6100 - val_dynamic_loss: 1.7512 - val_octave_loss: 0.7400 - val_ornament_loss: 0.5892 - val_repetition_loss: 0.0201 - val_clef_loss: 0.0000e+00 - val_key_loss: 0.0000e+00 - val_measure_loss: 0.0050 - val_rest_loss: 0.0000e+00 - val_time_loss: 0.0000e+00 - val_all_accuracy: 0.8094 - val_pitch_accuracy: 0.0969 - val_note_accuracy: 0.0625 - val_accidental_accuracy: 0.0688 - val_articulation_accuracy: 0.0219 - val_dynamic_accuracy: 0.0500 - val_octave_accuracy: 0.0469 - val_ornament_accuracy: 0.0500 - val_repetition_accuracy: 0.0906 - val_clef_accuracy: 0.0000e+00 - val_key_accuracy: 1.0000 - val_measure_accuracy: 0.9969 - val_rest_accuracy: 0.0000e+00 - val_time_accuracy: 1.0000\n",
      "Epoch 5/10\n",
      "697/697 [==============================] - 738s 1s/step - loss: nan - all_loss: nan - pitch_loss: 2.3869 - note_loss: 2.6256 - accidental_loss: 0.4305 - articulation_loss: 0.7170 - dynamic_loss: 1.6954 - octave_loss: 0.7536 - ornament_loss: 0.6559 - repetition_loss: 0.0160 - clef_loss: 8.9156e-04 - key_loss: 7.1134e-04 - measure_loss: 0.0040 - rest_loss: 0.0018 - time_loss: 6.5278e-05 - all_accuracy: 0.9091 - pitch_accuracy: 0.0915 - note_accuracy: 0.0735 - accidental_accuracy: 0.0541 - articulation_accuracy: 0.1272 - dynamic_accuracy: 0.0318 - octave_accuracy: 0.0443 - ornament_accuracy: 0.0492 - repetition_accuracy: 0.0872 - clef_accuracy: 0.0474 - key_accuracy: 0.5634 - measure_accuracy: 0.9984 - rest_accuracy: 0.0000e+00 - time_accuracy: 0.8808 - val_loss: nan - val_all_loss: nan - val_pitch_loss: 2.3567 - val_note_loss: 2.5979 - val_accidental_loss: 0.3722 - val_articulation_loss: 0.6916 - val_dynamic_loss: 1.5982 - val_octave_loss: 0.7539 - val_ornament_loss: 0.6197 - val_repetition_loss: 0.0188 - val_clef_loss: 0.0069 - val_key_loss: 1.1176e-09 - val_measure_loss: 0.0039 - val_rest_loss: 0.0000e+00 - val_time_loss: 0.0000e+00 - val_all_accuracy: 0.9844 - val_pitch_accuracy: 0.1094 - val_note_accuracy: 0.0812 - val_accidental_accuracy: 0.0500 - val_articulation_accuracy: 0.0469 - val_dynamic_accuracy: 0.0312 - val_octave_accuracy: 0.0500 - val_ornament_accuracy: 0.0531 - val_repetition_accuracy: 0.0562 - val_clef_accuracy: 0.0000e+00 - val_key_accuracy: 0.9937 - val_measure_accuracy: 1.0000 - val_rest_accuracy: 0.0000e+00 - val_time_accuracy: 1.0000\n",
      "Epoch 6/10\n",
      "697/697 [==============================] - 2738s 4s/step - loss: nan - all_loss: nan - pitch_loss: 2.3870 - note_loss: 2.6257 - accidental_loss: 0.4300 - articulation_loss: 0.7200 - dynamic_loss: 1.6956 - octave_loss: 0.7526 - ornament_loss: 0.6552 - repetition_loss: 0.0138 - clef_loss: 8.9150e-04 - key_loss: 6.9504e-11 - measure_loss: 0.0038 - rest_loss: 0.0018 - time_loss: 6.4341e-05 - all_accuracy: 0.9956 - pitch_accuracy: 0.0936 - note_accuracy: 0.0747 - accidental_accuracy: 0.0520 - articulation_accuracy: 0.0740 - dynamic_accuracy: 0.0343 - octave_accuracy: 0.0434 - ornament_accuracy: 0.0483 - repetition_accuracy: 0.0872 - clef_accuracy: 0.4405 - key_accuracy: 0.9995 - measure_accuracy: 0.9985 - rest_accuracy: 0.0000e+00 - time_accuracy: 0.9182 - val_loss: nan - val_all_loss: nan - val_pitch_loss: 2.3977 - val_note_loss: 2.6408 - val_accidental_loss: 0.5182 - val_articulation_loss: 0.6404 - val_dynamic_loss: 1.7611 - val_octave_loss: 0.6560 - val_ornament_loss: 0.6629 - val_repetition_loss: 0.0031 - val_clef_loss: 0.0000e+00 - val_key_loss: 0.0000e+00 - val_measure_loss: 0.0000e+00 - val_rest_loss: 0.0000e+00 - val_time_loss: 0.0000e+00 - val_all_accuracy: 1.0000 - val_pitch_accuracy: 0.0688 - val_note_accuracy: 0.0562 - val_accidental_accuracy: 0.0594 - val_articulation_accuracy: 0.0469 - val_dynamic_accuracy: 0.0312 - val_octave_accuracy: 0.0437 - val_ornament_accuracy: 0.0344 - val_repetition_accuracy: 0.1031 - val_clef_accuracy: 0.0000e+00 - val_key_accuracy: 1.0000 - val_measure_accuracy: 1.0000 - val_rest_accuracy: 0.0000e+00 - val_time_accuracy: 1.0000\n",
      "Epoch 7/10\n",
      "697/697 [==============================] - 3218s 5s/step - loss: nan - all_loss: nan - pitch_loss: 2.3870 - note_loss: 2.6257 - accidental_loss: 0.4304 - articulation_loss: 0.7174 - dynamic_loss: 1.6945 - octave_loss: 0.7522 - ornament_loss: 0.6549 - repetition_loss: 0.0139 - clef_loss: 8.9092e-04 - key_loss: 6.9504e-11 - measure_loss: 0.0037 - rest_loss: 0.0018 - time_loss: 6.3871e-05 - all_accuracy: 0.9956 - pitch_accuracy: 0.0916 - note_accuracy: 0.0708 - accidental_accuracy: 0.0531 - articulation_accuracy: 0.1228 - dynamic_accuracy: 0.0339 - octave_accuracy: 0.0422 - ornament_accuracy: 0.0500 - repetition_accuracy: 0.0871 - clef_accuracy: 0.0544 - key_accuracy: 0.9995 - measure_accuracy: 0.9985 - rest_accuracy: 0.0000e+00 - time_accuracy: 1.0000 - val_loss: nan - val_all_loss: nan - val_pitch_loss: 2.3867 - val_note_loss: 2.6310 - val_accidental_loss: 0.3813 - val_articulation_loss: 0.7629 - val_dynamic_loss: 1.7692 - val_octave_loss: 0.7579 - val_ornament_loss: 0.6931 - val_repetition_loss: 0.0021 - val_clef_loss: 0.0000e+00 - val_key_loss: 0.0000e+00 - val_measure_loss: 0.0052 - val_rest_loss: 0.0000e+00 - val_time_loss: 0.0000e+00 - val_all_accuracy: 0.9969 - val_pitch_accuracy: 0.1500 - val_note_accuracy: 0.0531 - val_accidental_accuracy: 0.0625 - val_articulation_accuracy: 0.0406 - val_dynamic_accuracy: 0.0312 - val_octave_accuracy: 0.0406 - val_ornament_accuracy: 0.0562 - val_repetition_accuracy: 0.0906 - val_clef_accuracy: 0.0000e+00 - val_key_accuracy: 1.0000 - val_measure_accuracy: 0.9969 - val_rest_accuracy: 0.0000e+00 - val_time_accuracy: 1.0000\n",
      "Epoch 8/10\n",
      "697/697 [==============================] - 1836s 3s/step - loss: nan - all_loss: nan - pitch_loss: 2.3870 - note_loss: 2.6256 - accidental_loss: 0.4302 - articulation_loss: 0.7171 - dynamic_loss: 1.6934 - octave_loss: 0.7531 - ornament_loss: 0.6551 - repetition_loss: 0.0140 - clef_loss: 8.9172e-04 - key_loss: 7.4850e-11 - measure_loss: 0.0039 - rest_loss: 0.0017 - time_loss: 6.4003e-05 - all_accuracy: 0.9955 - pitch_accuracy: 0.0917 - note_accuracy: 0.0706 - accidental_accuracy: 0.0542 - articulation_accuracy: 0.1684 - dynamic_accuracy: 0.0337 - octave_accuracy: 0.0446 - ornament_accuracy: 0.0489 - repetition_accuracy: 0.0869 - clef_accuracy: 0.1792 - key_accuracy: 0.9994 - measure_accuracy: 0.9984 - rest_accuracy: 4.4849e-05 - time_accuracy: 0.6828 - val_loss: nan - val_all_loss: nan - val_pitch_loss: 2.3834 - val_note_loss: 2.6223 - val_accidental_loss: 0.4284 - val_articulation_loss: 0.6576 - val_dynamic_loss: 1.7700 - val_octave_loss: 0.7555 - val_ornament_loss: 0.6748 - val_repetition_loss: 0.0421 - val_clef_loss: 0.0000e+00 - val_key_loss: 0.0000e+00 - val_measure_loss: 0.0053 - val_rest_loss: 0.0000e+00 - val_time_loss: 0.0000e+00 - val_all_accuracy: 0.9937 - val_pitch_accuracy: 0.0875 - val_note_accuracy: 0.0594 - val_accidental_accuracy: 0.0500 - val_articulation_accuracy: 0.0500 - val_dynamic_accuracy: 0.0344 - val_octave_accuracy: 0.0437 - val_ornament_accuracy: 0.0500 - val_repetition_accuracy: 0.0906 - val_clef_accuracy: 0.0000e+00 - val_key_accuracy: 1.0000 - val_measure_accuracy: 0.9969 - val_rest_accuracy: 0.0000e+00 - val_time_accuracy: 1.0000\n",
      "Epoch 9/10\n",
      "697/697 [==============================] - 640s 918ms/step - loss: nan - all_loss: nan - pitch_loss: 2.3869 - note_loss: 2.6257 - accidental_loss: 0.4292 - articulation_loss: 0.7172 - dynamic_loss: 1.6947 - octave_loss: 0.7518 - ornament_loss: 0.6556 - repetition_loss: 0.0139 - clef_loss: 8.9139e-04 - key_loss: 7.4850e-11 - measure_loss: 0.0038 - rest_loss: 0.0018 - time_loss: 6.4158e-05 - all_accuracy: 0.9955 - pitch_accuracy: 0.0906 - note_accuracy: 0.0735 - accidental_accuracy: 0.0514 - articulation_accuracy: 0.0573 - dynamic_accuracy: 0.0336 - octave_accuracy: 0.0454 - ornament_accuracy: 0.0469 - repetition_accuracy: 0.0871 - clef_accuracy: 0.3186 - key_accuracy: 0.9994 - measure_accuracy: 0.9984 - rest_accuracy: 0.0000e+00 - time_accuracy: 0.4201 - val_loss: nan - val_all_loss: nan - val_pitch_loss: 2.3912 - val_note_loss: 2.6295 - val_accidental_loss: 0.4422 - val_articulation_loss: 0.6921 - val_dynamic_loss: 1.6255 - val_octave_loss: 0.6954 - val_ornament_loss: 0.7418 - val_repetition_loss: 0.0016 - val_clef_loss: 0.0000e+00 - val_key_loss: 3.7253e-10 - val_measure_loss: 0.0000e+00 - val_rest_loss: 0.0000e+00 - val_time_loss: 0.0000e+00 - val_all_accuracy: 0.9969 - val_pitch_accuracy: 0.0812 - val_note_accuracy: 0.0688 - val_accidental_accuracy: 0.0531 - val_articulation_accuracy: 0.0406 - val_dynamic_accuracy: 0.0281 - val_octave_accuracy: 0.0469 - val_ornament_accuracy: 0.0531 - val_repetition_accuracy: 0.0437 - val_clef_accuracy: 0.0000e+00 - val_key_accuracy: 0.9969 - val_measure_accuracy: 1.0000 - val_rest_accuracy: 0.0000e+00 - val_time_accuracy: 1.0000\n",
      "Epoch 10/10\n",
      "697/697 [==============================] - 920s 1s/step - loss: nan - all_loss: nan - pitch_loss: 2.3869 - note_loss: 2.6255 - accidental_loss: 0.4302 - articulation_loss: 0.7170 - dynamic_loss: 1.6930 - octave_loss: 0.7526 - ornament_loss: 0.6559 - repetition_loss: 0.0140 - clef_loss: 8.9139e-04 - key_loss: 7.4850e-11 - measure_loss: 0.0038 - rest_loss: 0.0018 - time_loss: 6.3971e-05 - all_accuracy: 0.9955 - pitch_accuracy: 0.0933 - note_accuracy: 0.0751 - accidental_accuracy: 0.0523 - articulation_accuracy: 0.1685 - dynamic_accuracy: 0.0329 - octave_accuracy: 0.0470 - ornament_accuracy: 0.0484 - repetition_accuracy: 0.0869 - clef_accuracy: 4.4849e-05 - key_accuracy: 0.9994 - measure_accuracy: 0.9984 - rest_accuracy: 4.4849e-05 - time_accuracy: 0.5751 - val_loss: nan - val_all_loss: nan - val_pitch_loss: 2.3963 - val_note_loss: 2.6389 - val_accidental_loss: 0.4370 - val_articulation_loss: 0.6979 - val_dynamic_loss: 1.7066 - val_octave_loss: 0.7915 - val_ornament_loss: 0.6203 - val_repetition_loss: 0.0023 - val_clef_loss: 0.0000e+00 - val_key_loss: 0.0000e+00 - val_measure_loss: 0.0000e+00 - val_rest_loss: 0.0000e+00 - val_time_loss: 0.0000e+00 - val_all_accuracy: 1.0000 - val_pitch_accuracy: 0.1094 - val_note_accuracy: 0.0594 - val_accidental_accuracy: 0.0625 - val_articulation_accuracy: 0.0156 - val_dynamic_accuracy: 0.0344 - val_octave_accuracy: 0.0500 - val_ornament_accuracy: 0.0437 - val_repetition_accuracy: 0.0812 - val_clef_accuracy: 0.0000e+00 - val_key_accuracy: 1.0000 - val_measure_accuracy: 1.0000 - val_rest_accuracy: 0.0000e+00 - val_time_accuracy: 1.0000\n"
     ]
    }
   ],
   "source": [
    "# 그래프 초기화\n",
    "tf.keras.backend.clear_session()\n",
    "\n",
    "with tf.device('/device:GPU:0'):\n",
    "    # 모델 존재 확인\n",
    "    if os.path.exists(model_dir): model = tf.keras.models.load_model(model_dir) # 모델 불러오기\n",
    "    else                        : model = mymod.msrm(myds.t_dfs)                # 모델 생성\n",
    "\n",
    "    # 모델 학습 설정\n",
    "    model.compile(\n",
    "        optimizer='adam',\n",
    "        loss=[\n",
    "            'binary_crossentropy',\n",
    "            'categorical_crossentropy',\n",
    "            'categorical_crossentropy',\n",
    "            'categorical_crossentropy',\n",
    "            'categorical_crossentropy',\n",
    "            'categorical_crossentropy',\n",
    "            'categorical_crossentropy',\n",
    "            'categorical_crossentropy',\n",
    "            'categorical_crossentropy',\n",
    "            'categorical_crossentropy',\n",
    "            'categorical_crossentropy',\n",
    "            'categorical_crossentropy',\n",
    "            'categorical_crossentropy',\n",
    "            'categorical_crossentropy'\n",
    "        ],\n",
    "        metrics=['accuracy']\n",
    "    )\n",
    "\n",
    "    # 모델 훈련 및 저장\n",
    "    history = model.fit(ds_train, epochs=10, initial_epoch=0, validation_data=ds_validation, callbacks=[cb_checkpoint, cb_early_stop])\n",
    "\n",
    "    # 모델 저장\n",
    "    model.save(model_dir)"
   ]
  },
  {
   "cell_type": "markdown",
   "metadata": {},
   "source": [
    "# 학습 결과"
   ]
  },
  {
   "cell_type": "code",
   "execution_count": null,
   "metadata": {},
   "outputs": [],
   "source": [
    "# 훈련 결과 그리기\n",
    "pd.DataFrame(history.history).plot(figsize=(20, 10))\n",
    "plt.grid(True)\n",
    "plt.gca().set_ylim(0, 1)\n",
    "plt.show()"
   ]
  }
 ],
 "metadata": {
  "kernelspec": {
   "display_name": "new2",
   "language": "python",
   "name": "python3"
  },
  "language_info": {
   "codemirror_mode": {
    "name": "ipython",
    "version": 3
   },
   "file_extension": ".py",
   "mimetype": "text/x-python",
   "name": "python",
   "nbconvert_exporter": "python",
   "pygments_lexer": "ipython3",
   "version": "3.10.14"
  }
 },
 "nbformat": 4,
 "nbformat_minor": 2
}
