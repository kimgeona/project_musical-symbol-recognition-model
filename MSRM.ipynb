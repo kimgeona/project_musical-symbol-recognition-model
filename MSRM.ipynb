{
 "cells": [
  {
   "cell_type": "markdown",
   "metadata": {},
   "source": [
    "# 패키지"
   ]
  },
  {
   "cell_type": "code",
   "execution_count": 1,
   "metadata": {},
   "outputs": [],
   "source": [
    "import tensorflow as tf\n",
    "from tensorflow import keras"
   ]
  },
  {
   "cell_type": "markdown",
   "metadata": {},
   "source": [
    "# GPU 사용 설정"
   ]
  },
  {
   "cell_type": "code",
   "execution_count": 2,
   "metadata": {},
   "outputs": [],
   "source": [
    "# 사용 가능한 모든 GPU 리스트\n",
    "gpus = tf.config.list_physical_devices('GPU')\n",
    "\n",
    "# 사용할 프로세서 선택 : GPU\n",
    "if gpus:\n",
    "    try: tf.config.set_visible_devices(gpus[0], 'GPU')\n",
    "    except RuntimeError as e: print(e)"
   ]
  },
  {
   "cell_type": "markdown",
   "metadata": {},
   "source": [
    "# 데이터셋"
   ]
  },
  {
   "cell_type": "code",
   "execution_count": 3,
   "metadata": {},
   "outputs": [],
   "source": [
    "import os\n",
    "\n",
    "# 데이터셋 주소\n",
    "dataset_dir = os.path.join('.', 'datasets', 'MusicalSymbol-v.1.1.5')\n",
    "csv_dir = os.path.join(dataset_dir, 'label.csv')"
   ]
  },
  {
   "cell_type": "code",
   "execution_count": 4,
   "metadata": {},
   "outputs": [
    {
     "name": "stdout",
     "output_type": "stream",
     "text": [
      "Metal device set to: Apple M1\n",
      "\n",
      "systemMemory: 16.00 GB\n",
      "maxCacheSize: 5.33 GB\n",
      "\n"
     ]
    }
   ],
   "source": [
    "import pandas as pd\n",
    "\n",
    "# csv 파일 불러오기\n",
    "df = pd.read_csv(csv_dir)\n",
    "\n",
    "# name을 정수값으로 추출\n",
    "df['name_int'] = df['name'].str.extract('(\\d+)').astype(int)\n",
    "\n",
    "# 정수값을 기준으로 정렬 및 인덱스 초기화\n",
    "df = df.sort_values('name_int')\n",
    "df.reset_index(drop=True, inplace=True)\n",
    "\n",
    "# 필요 없는 name, name_int 열 제거\n",
    "df = df.drop(columns=['name', 'name_int'])\n",
    "\n",
    "# pandas 데이터 프레임을 tensorflow 텐서로 변환\n",
    "df = tf.convert_to_tensor(df.values, dtype=tf.int32)"
   ]
  },
  {
   "cell_type": "code",
   "execution_count": 5,
   "metadata": {},
   "outputs": [],
   "source": [
    "def make_data(img_path):\n",
    "    # 타겟 생성\n",
    "    image = tf.io.read_file(img_path)               # 파일 로드\n",
    "    image = tf.image.decode_png(image, channels=1)  # png 파일로 변환\n",
    "    image = tf.cast(image, tf.float32)              # uint8 -> float32\n",
    "    image = image / 255.0                           # 0~1 로 정규화\n",
    "    image = 1.0 - image                             # 흑백 이미지 반전\n",
    "\n",
    "    # 레이블 생성\n",
    "    lable_index = tf.strings.split(img_path, os.path.sep)[-1]           # 파일 이름 추출\n",
    "    lable_index = tf.strings.split(lable_index, '.')[0]                 # 확장자 제거\n",
    "    lable_index = tf.strings.to_number(lable_index, out_type=tf.int32)  # 숫자 변환\n",
    "    lable = tf.gather(df, lable_index-1)                                # df 에서 lable_index 번째 label 추출\n",
    "\n",
    "    # 타겟과 레이블 반환\n",
    "    return (image, lable)"
   ]
  },
  {
   "cell_type": "code",
   "execution_count": 6,
   "metadata": {},
   "outputs": [],
   "source": [
    "# 데이터셋 생성\n",
    "dataset = tf.data.Dataset.list_files(os.path.join(dataset_dir, '*.png'))\n",
    "\n",
    "# map\n",
    "dataset = dataset.map(make_data, num_parallel_calls=tf.data.experimental.AUTOTUNE)\n",
    "\n",
    "# repeat\n",
    "dataset = dataset.repeat(3)\n",
    "\n",
    "# shuffle\n",
    "dataset = dataset.shuffle(buffer_size=25000)\n",
    "\n",
    "# train, validation\n",
    "ds_validation = dataset.take(320).batch(32).prefetch(tf.data.experimental.AUTOTUNE)\n",
    "ds_train = dataset.skip(320).batch(32)"
   ]
  },
  {
   "cell_type": "markdown",
   "metadata": {},
   "source": [
    "# 모델 학습"
   ]
  },
  {
   "cell_type": "code",
   "execution_count": null,
   "metadata": {},
   "outputs": [],
   "source": [
    "# 그래프 초기화\n",
    "keras.backend.clear_session()\n",
    "\n",
    "# 모델 생성 및 학습\n",
    "with tf.device('/device:GPU:0'):\n",
    "    # 모델 생성\n",
    "    model = tf.keras.models.Sequential()\n",
    "    model.add(tf.keras.layers.Conv2D(32, (3, 3), activation='relu', input_shape=(192, 512, 1)))\n",
    "    model.add(tf.keras.layers.MaxPool2D(2, 2))\n",
    "    model.add(tf.keras.layers.Conv2D(64, (3, 3), activation='relu', input_shape=(192, 512, 1)))\n",
    "    model.add(tf.keras.layers.MaxPool2D(2, 2))\n",
    "    model.add(tf.keras.layers.Conv2D(128, (3, 3), activation='relu', input_shape=(192, 512, 1)))\n",
    "    model.add(tf.keras.layers.MaxPool2D(2, 2))\n",
    "    model.add(tf.keras.layers.Flatten())\n",
    "    model.add(tf.keras.layers.Dense(256, activation='relu'))\n",
    "    model.add(tf.keras.layers.Dense(133, activation='sigmoid'))\n",
    "\n",
    "    # 모델 컴파일\n",
    "    model.compile(optimizer='adam', loss='binary_crossentropy', metrics=['accuracy'])\n",
    "    \n",
    "    # 모델 학습\n",
    "    model.fit(ds_train, epochs=10, validation_data=ds_validation)"
   ]
  }
 ],
 "metadata": {
  "kernelspec": {
   "display_name": "tensorflow_2.12",
   "language": "python",
   "name": "python3"
  },
  "language_info": {
   "codemirror_mode": {
    "name": "ipython",
    "version": 3
   },
   "file_extension": ".py",
   "mimetype": "text/x-python",
   "name": "python",
   "nbconvert_exporter": "python",
   "pygments_lexer": "ipython3",
   "version": "3.10.13"
  }
 },
 "nbformat": 4,
 "nbformat_minor": 2
}
