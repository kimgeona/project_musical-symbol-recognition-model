{
 "cells": [
  {
   "cell_type": "markdown",
   "metadata": {},
   "source": [
    "# 패키지"
   ]
  },
  {
   "cell_type": "code",
   "execution_count": 1,
   "metadata": {},
   "outputs": [
    {
     "name": "stderr",
     "output_type": "stream",
     "text": [
      "/Users/chorokmoo/_MyDev/_Anaconda/anaconda3/envs/new2/lib/python3.10/site-packages/tensorflow_addons/utils/tfa_eol_msg.py:23: UserWarning: \n",
      "\n",
      "TensorFlow Addons (TFA) has ended development and introduction of new features.\n",
      "TFA has entered a minimal maintenance and release mode until a planned end of life in May 2024.\n",
      "Please modify downstream libraries to take dependencies from other repositories in our TensorFlow community (e.g. Keras, Keras-CV, and Keras-NLP). \n",
      "\n",
      "For more information see: https://github.com/tensorflow/addons/issues/2807 \n",
      "\n",
      "  warnings.warn(\n"
     ]
    }
   ],
   "source": [
    "import os                           # 운영체제\n",
    "import tensorflow as tf             # 텐서플로\n",
    "import pandas as pd                 # 판다스\n",
    "import matplotlib.pyplot as plt     # 그래프 도구\n",
    "import my_models as mymod           # 케라스 사용자 모델\n",
    "import my_dataset as myds           # 데이터셋 생성기"
   ]
  },
  {
   "cell_type": "markdown",
   "metadata": {},
   "source": [
    "# GPU 설정"
   ]
  },
  {
   "cell_type": "code",
   "execution_count": 2,
   "metadata": {},
   "outputs": [],
   "source": [
    "# 사용 가능한 모든 GPU 리스트\n",
    "gpus = tf.config.list_physical_devices('GPU')\n",
    "\n",
    "# 사용할 프로세서 선택 : GPU\n",
    "if gpus:\n",
    "    try: tf.config.set_visible_devices(gpus[0], 'GPU')\n",
    "    except RuntimeError as e: print(e)"
   ]
  },
  {
   "cell_type": "markdown",
   "metadata": {},
   "source": [
    "# 데이터셋"
   ]
  },
  {
   "cell_type": "code",
   "execution_count": 3,
   "metadata": {},
   "outputs": [
    {
     "name": "stdout",
     "output_type": "stream",
     "text": [
      "Metal device set to: Apple M1\n",
      "\n",
      "systemMemory: 16.00 GB\n",
      "maxCacheSize: 5.33 GB\n",
      "\n",
      "생성된 데이터셋 정보\n",
      "--------------------------------\n",
      "shape 0   : (22617, 12)\n",
      "--------------------------------\n",
      "count 0   : [22502, 6044, 7567, 13256, 8180, 7618, 2011, 9, 14, 58, 15, 2]\n",
      "--------------------------------\n",
      "[12]\n"
     ]
    }
   ],
   "source": [
    "ds = myds.make()\n",
    "ds_validation = ds.take(320).batch(32).prefetch(tf.data.experimental.AUTOTUNE)  # 훈련 데이터셋\n",
    "ds_train = ds.skip(320).batch(32)                                               # 검증 데이터셋"
   ]
  },
  {
   "cell_type": "markdown",
   "metadata": {},
   "source": [
    "# 콜백 함수"
   ]
  },
  {
   "cell_type": "code",
   "execution_count": 4,
   "metadata": {},
   "outputs": [],
   "source": [
    "# 모델 주소\n",
    "model_dir = os.path.join('.', 'models', 'msrm.h5')\n",
    "\n",
    "# 최상의 모델 저장\n",
    "cb_checkpoint = tf.keras.callbacks.ModelCheckpoint(model_dir, save_best_only=True)\n",
    "cb_early_stop = tf.keras.callbacks.EarlyStopping(patience=20, restore_best_weights=True)"
   ]
  },
  {
   "cell_type": "markdown",
   "metadata": {},
   "source": [
    "# 손실 함수"
   ]
  },
  {
   "cell_type": "code",
   "execution_count": 5,
   "metadata": {},
   "outputs": [],
   "source": [
    "class CustomLoss(tf.keras.losses.Loss):\n",
    "    def __init__(self, numbers, **kwargs):\n",
    "        numbers = [3.0 / n for n in numbers]\n",
    "        total = sum(numbers)\n",
    "        self.rate = [n / total for n in numbers]\n",
    "        super().__init__(**kwargs)\n",
    "\n",
    "    def call(self, y_true, y_pred):\n",
    "        # 자료형 통일\n",
    "        y_true = tf.cast(y_true, dtype=y_pred.dtype)\n",
    "\n",
    "        # 손실 계산\n",
    "        #loss = tf.keras.losses.binary_crossentropy(y_true, y_pred)\n",
    "        loss = tf.abs(y_true - y_pred)\n",
    "\n",
    "        # 배치 크기 계산\n",
    "        batch_size = tf.shape(y_pred)[0]\n",
    "\n",
    "        # 계산된 가중치 브로드 개스팅\n",
    "        weights = tf.broadcast_to(self.rate, [batch_size, tf.shape(self.rate)[0]])\n",
    "\n",
    "        # 가중치를 사용하여 손실을 계산함\n",
    "        weighted_losses = tf.reduce_sum(weights * loss, axis=-1)\n",
    "        weighted_losses = tf.reduce_mean(weighted_losses)\n",
    "        return weighted_losses"
   ]
  },
  {
   "cell_type": "markdown",
   "metadata": {},
   "source": [
    "# 모델 생성 및 학습"
   ]
  },
  {
   "cell_type": "code",
   "execution_count": null,
   "metadata": {},
   "outputs": [],
   "source": [
    "# 그래프 초기화\n",
    "tf.keras.backend.clear_session()\n",
    "\n",
    "with tf.device('/device:GPU:0'):\n",
    "    # 모델 존재 확인\n",
    "    if os.path.exists(model_dir): \n",
    "        # 모델 불러오기\n",
    "        model = tf.keras.models.load_model(model_dir) \n",
    "    else:\n",
    "        # ResNet50 모델 불러오기 (사전 학습된 가중치 사용)\n",
    "        base_model = tf.keras.applications.ResNet50(weights='imagenet', include_top=False, input_shape=(512, 192, 3))\n",
    "\n",
    "        # 새로운 분류층 추가\n",
    "        x = base_model.output\n",
    "        x = tf.keras.layers.GlobalAveragePooling2D()(x)\n",
    "        x = tf.keras.layers.Dense(512, activation='relu')(x)\n",
    "        out = tf.keras.layers.Dense(12, activation='sigmoid')(x)\n",
    "\n",
    "        # 모델 생성\n",
    "        model = tf.keras.models.Model(inputs=base_model.input, outputs=out)\n",
    "\n",
    "    # 사전 학습 층 동결\n",
    "    for layer in base_model.layers:\n",
    "        layer.trainable = False\n",
    "\n",
    "    # 모델 학습 설정\n",
    "    model.compile(\n",
    "        optimizer='adam',\n",
    "        loss=[CustomLoss([22502, 6044, 7567, 13256, 8180, 7618, 2011, 9, 14, 58, 15, 2])],\n",
    "        metrics=['accuracy']\n",
    "    )\n",
    "\n",
    "    # 모델 훈련 및 저장\n",
    "    history = model.fit(ds_train, epochs=10, initial_epoch=0, validation_data=ds_validation, callbacks=[cb_checkpoint, cb_early_stop])\n",
    "\n",
    "    # 모델 저장\n",
    "    model.save(model_dir)\n",
    "\n",
    "\n",
    "    # 사전 학습 층 동결\n",
    "    for layer in base_model.layers:\n",
    "        layer.trainable = True\n",
    "\n",
    "    # 모델 훈련 및 저장\n",
    "    history = model.fit(ds_train, epochs=20, initial_epoch=10, validation_data=ds_validation, callbacks=[cb_checkpoint, cb_early_stop])\n",
    "\n",
    "    # 모델 저장\n",
    "    model.save(model_dir)"
   ]
  },
  {
   "cell_type": "code",
   "execution_count": null,
   "metadata": {},
   "outputs": [],
   "source": [
    "# 그래프 초기화\n",
    "tf.keras.backend.clear_session()\n",
    "\n",
    "with tf.device('/device:GPU:0'):\n",
    "    # 사전 학습 층 동결\n",
    "    for layer in base_model.layers:\n",
    "        layer.trainable = True\n",
    "\n",
    "    # 모델 학습 설정\n",
    "    model.compile(\n",
    "        optimizer='adam',\n",
    "        loss=['binary_crossentropy'],\n",
    "        metrics=['accuracy']\n",
    "    )\n",
    "\n",
    "    # 모델 훈련 및 저장\n",
    "    history = model.fit(ds_train, epochs=20, initial_epoch=10, validation_data=ds_validation, callbacks=[cb_checkpoint, cb_early_stop])\n",
    "\n",
    "    # 모델 저장\n",
    "    model.save(model_dir)"
   ]
  },
  {
   "cell_type": "code",
   "execution_count": null,
   "metadata": {},
   "outputs": [],
   "source": [
    "# 그래프 초기화\n",
    "tf.keras.backend.clear_session()\n",
    "\n",
    "with tf.device('/device:GPU:0'):\n",
    "    # 모델 존재 확인\n",
    "    if os.path.exists(model_dir): model = tf.keras.models.load_model(model_dir)                         # 모델 불러오기\n",
    "    else                        : model = mymod.msrm([12, 11, 14, 5, 9, 18, 8, 7, 12, 9, 14, 6, 15, 2]) # 모델 생성\n",
    "\n",
    "    # 모델 학습 설정\n",
    "    model.compile(\n",
    "        optimizer='adam',\n",
    "        loss=[\n",
    "            'binary_crossentropy',\n",
    "            'categorical_crossentropy',\n",
    "            'categorical_crossentropy',\n",
    "            'categorical_crossentropy',\n",
    "            'categorical_crossentropy',\n",
    "            'categorical_crossentropy',\n",
    "            'categorical_crossentropy',\n",
    "            'categorical_crossentropy',\n",
    "            'categorical_crossentropy',\n",
    "            'categorical_crossentropy',\n",
    "            'categorical_crossentropy',\n",
    "            'categorical_crossentropy',\n",
    "            'categorical_crossentropy',\n",
    "            'categorical_crossentropy'\n",
    "        ],\n",
    "        metrics=['accuracy']\n",
    "    )\n",
    "\n",
    "    # 모델 훈련 및 저장\n",
    "    history = model.fit(ds_train, epochs=10, initial_epoch=0, validation_data=ds_validation, callbacks=[cb_checkpoint, cb_early_stop])\n",
    "\n",
    "    # 모델 저장\n",
    "    model.save(model_dir)"
   ]
  },
  {
   "cell_type": "markdown",
   "metadata": {},
   "source": [
    "# 학습 결과"
   ]
  },
  {
   "cell_type": "code",
   "execution_count": null,
   "metadata": {},
   "outputs": [],
   "source": [
    "# 훈련 결과 그리기\n",
    "pd.DataFrame(history.history).plot(figsize=(20, 10))\n",
    "plt.grid(True)\n",
    "plt.gca().set_ylim(0, 1)\n",
    "plt.show()"
   ]
  }
 ],
 "metadata": {
  "kernelspec": {
   "display_name": "new2",
   "language": "python",
   "name": "python3"
  },
  "language_info": {
   "codemirror_mode": {
    "name": "ipython",
    "version": 3
   },
   "file_extension": ".py",
   "mimetype": "text/x-python",
   "name": "python",
   "nbconvert_exporter": "python",
   "pygments_lexer": "ipython3",
   "version": "3.10.14"
  }
 },
 "nbformat": 4,
 "nbformat_minor": 2
}
