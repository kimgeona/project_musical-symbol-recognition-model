{
 "cells": [
  {
   "cell_type": "markdown",
   "metadata": {},
   "source": [
    "# 패키지"
   ]
  },
  {
   "cell_type": "code",
   "execution_count": 1,
   "metadata": {},
   "outputs": [],
   "source": [
    "import os"
   ]
  },
  {
   "cell_type": "code",
   "execution_count": 2,
   "metadata": {},
   "outputs": [],
   "source": [
    "import tensorflow as tf     # 텐서플로\n",
    "import pandas as pd         # 판다스"
   ]
  },
  {
   "cell_type": "markdown",
   "metadata": {},
   "source": [
    "# GPU 사용 설정"
   ]
  },
  {
   "cell_type": "code",
   "execution_count": 3,
   "metadata": {},
   "outputs": [],
   "source": [
    "# 사용 가능한 모든 GPU 리스트\n",
    "gpus = tf.config.list_physical_devices('GPU')\n",
    "\n",
    "# 사용할 프로세서 선택 : GPU\n",
    "if gpus:\n",
    "    try: tf.config.set_visible_devices(gpus[0], 'GPU')\n",
    "    except RuntimeError as e: print(e)"
   ]
  },
  {
   "cell_type": "markdown",
   "metadata": {},
   "source": [
    "# 데이터셋"
   ]
  },
  {
   "cell_type": "code",
   "execution_count": 4,
   "metadata": {},
   "outputs": [],
   "source": [
    "# 데이터셋 주소\n",
    "dataset_dir = os.path.join('.', 'datasets', 'MusicalSymbol-v.1.1.5')\n",
    "\n",
    "# CSV 파일 주소\n",
    "csv_dir = os.path.join(dataset_dir, 'label.csv')"
   ]
  },
  {
   "cell_type": "code",
   "execution_count": 9,
   "metadata": {},
   "outputs": [
    {
     "name": "stdout",
     "output_type": "stream",
     "text": [
      "Index([' staff-a4-0-0', ' staff-b4-0-0', ' staff-c5-0-0', ' staff-d4-0-0',\n",
      "       ' staff-d5-0-0', ' staff-e4-0-0', ' staff-e5-0-0', ' staff-f4-0-0',\n",
      "       ' staff-f5-0-0', ' staff-g4-0-0', ' staff-g5-0-0'],\n",
      "      dtype='object')\n"
     ]
    }
   ],
   "source": [
    "# csv 파일 불러오기\n",
    "df = pd.read_csv(csv_dir)\n",
    "\n",
    "# name을 정수값으로 추출\n",
    "df['name_int'] = df['name'].str.extract('(\\d+)').astype(int)\n",
    "\n",
    "# 정수값을 기준으로 정렬 및 인덱스 초기화\n",
    "df = df.sort_values('name_int')\n",
    "df.reset_index(drop=True, inplace=True)\n",
    "\n",
    "# 필요 없는 name, name_int 열 제거\n",
    "df = df.drop(columns=['name', 'name_int'])\n",
    "\n",
    "##########\n",
    "df = df.filter(like='staff')\n",
    "df = df.drop(columns=[' staff', ' staff-half-left', ' staff-half-right'])\n",
    "#\n",
    "print(df.columns)\n",
    "##########\n",
    "\n",
    "# pandas 데이터 프레임을 tensorflow 텐서로 변환\n",
    "df = tf.convert_to_tensor(df.values, dtype=tf.int32)"
   ]
  },
  {
   "cell_type": "code",
   "execution_count": 10,
   "metadata": {},
   "outputs": [],
   "source": [
    "def make_data(img_path):\n",
    "    # 타겟 생성\n",
    "    image = tf.io.read_file(img_path)               # 파일 로드\n",
    "    image = tf.image.decode_png(image, channels=1)  # png 파일로 변환\n",
    "    image = tf.cast(image, tf.float32)              # uint8 -> float32\n",
    "    image = image / 255.0                           # 0~1 로 정규화\n",
    "    image = 1.0 - image                             # 흑백 이미지 반전\n",
    "\n",
    "    # 레이블 생성\n",
    "    lable_index = tf.strings.split(img_path, os.path.sep)[-1]           # 파일 이름 추출\n",
    "    lable_index = tf.strings.split(lable_index, '.')[0]                 # 확장자 제거\n",
    "    lable_index = tf.strings.to_number(lable_index, out_type=tf.int32)  # 숫자 변환\n",
    "    lable = tf.gather(df, lable_index-1)                                # df 에서 lable_index 번째 label 추출\n",
    "\n",
    "    # 타겟과 레이블 반환\n",
    "    return (image, lable)\n",
    "\n",
    "def filter_dataset(image, label):\n",
    "    # label이 모두 0인 경우 필터링\n",
    "    return tf.math.reduce_any(label != 0)"
   ]
  },
  {
   "cell_type": "code",
   "execution_count": 11,
   "metadata": {},
   "outputs": [],
   "source": [
    "# 데이터셋 생성\n",
    "dataset = tf.data.Dataset.list_files(os.path.join(dataset_dir, '*.png'))\n",
    "\n",
    "# map\n",
    "dataset = dataset.map(make_data, num_parallel_calls=tf.data.experimental.AUTOTUNE)\n",
    "\n",
    "# filter\n",
    "dataset = dataset.filter(filter_dataset)\n",
    "\n",
    "# repeat\n",
    "dataset = dataset.repeat(3)\n",
    "\n",
    "# shuffle\n",
    "dataset = dataset.shuffle(buffer_size=25000)\n",
    "\n",
    "# train, validation\n",
    "ds_validation = dataset.take(320).batch(32).prefetch(tf.data.experimental.AUTOTUNE)\n",
    "ds_train = dataset.skip(320).batch(32)"
   ]
  },
  {
   "cell_type": "markdown",
   "metadata": {},
   "source": [
    "# 모델 학습"
   ]
  },
  {
   "cell_type": "code",
   "execution_count": 12,
   "metadata": {},
   "outputs": [
    {
     "name": "stdout",
     "output_type": "stream",
     "text": [
      "Epoch 1/10\n",
      "2106/2106 [==============================] - 175s 75ms/step - loss: 0.0035 - accuracy: 0.9990 - val_loss: 6.3330e-08 - val_accuracy: 1.0000\n",
      "Epoch 2/10\n",
      "2106/2106 [==============================] - 182s 81ms/step - loss: 3.7960e-08 - accuracy: 1.0000 - val_loss: 3.7625e-08 - val_accuracy: 1.0000\n",
      "Epoch 3/10\n",
      "2106/2106 [==============================] - 187s 83ms/step - loss: 9.6412e-09 - accuracy: 1.0000 - val_loss: 1.0803e-08 - val_accuracy: 1.0000\n",
      "Epoch 4/10\n",
      "2106/2106 [==============================] - 194s 86ms/step - loss: 3.3983e-09 - accuracy: 1.0000 - val_loss: 2.9802e-09 - val_accuracy: 1.0000\n",
      "Epoch 5/10\n",
      "2106/2106 [==============================] - 201s 89ms/step - loss: 1.4152e-09 - accuracy: 1.0000 - val_loss: 3.7253e-10 - val_accuracy: 1.0000\n",
      "Epoch 6/10\n",
      "2106/2106 [==============================] - 209s 92ms/step - loss: 8.7036e-10 - accuracy: 1.0000 - val_loss: 1.1176e-09 - val_accuracy: 1.0000\n",
      "Epoch 7/10\n",
      "2106/2106 [==============================] - 215s 94ms/step - loss: 7.1646e-10 - accuracy: 1.0000 - val_loss: 1.1176e-09 - val_accuracy: 1.0000\n",
      "Epoch 8/10\n",
      "2106/2106 [==============================] - 222s 98ms/step - loss: 7.3061e-10 - accuracy: 1.0000 - val_loss: 3.7253e-10 - val_accuracy: 1.0000\n",
      "Epoch 9/10\n",
      "2106/2106 [==============================] - 229s 100ms/step - loss: 4.3164e-10 - accuracy: 1.0000 - val_loss: 3.7253e-10 - val_accuracy: 1.0000\n",
      "Epoch 10/10\n",
      "2106/2106 [==============================] - 236s 103ms/step - loss: 1.3445e-10 - accuracy: 1.0000 - val_loss: 3.7253e-10 - val_accuracy: 1.0000\n"
     ]
    }
   ],
   "source": [
    "# 그래프 초기화\n",
    "tf.keras.backend.clear_session()\n",
    "\n",
    "# 모델 생성 및 학습\n",
    "with tf.device('/device:GPU:0'):\n",
    "    # 모델 생성\n",
    "    model = tf.keras.models.Sequential()\n",
    "    model.add(tf.keras.layers.Conv2D(32, (3, 3), activation='relu', input_shape=(192, 512, 1)))\n",
    "    model.add(tf.keras.layers.MaxPool2D(2, 2))\n",
    "    model.add(tf.keras.layers.Conv2D(64, (3, 3), activation='relu'))\n",
    "    model.add(tf.keras.layers.MaxPool2D(2, 2))\n",
    "    model.add(tf.keras.layers.Conv2D(128, (3, 3), activation='relu'))\n",
    "    model.add(tf.keras.layers.MaxPool2D(2, 2))\n",
    "    model.add(tf.keras.layers.Flatten())\n",
    "    model.add(tf.keras.layers.Dense(256, activation='relu'))\n",
    "    model.add(tf.keras.layers.Dense(11, activation='softmax'))\n",
    "\n",
    "    # 모델 컴파일\n",
    "    model.compile(optimizer='adam', loss='categorical_crossentropy', metrics=['accuracy'])\n",
    "    \n",
    "    # 모델 학습\n",
    "    model.fit(ds_train, epochs=10, validation_data=ds_validation)"
   ]
  }
 ],
 "metadata": {
  "kernelspec": {
   "display_name": "tensorflow_2.12",
   "language": "python",
   "name": "python3"
  },
  "language_info": {
   "codemirror_mode": {
    "name": "ipython",
    "version": 3
   },
   "file_extension": ".py",
   "mimetype": "text/x-python",
   "name": "python",
   "nbconvert_exporter": "python",
   "pygments_lexer": "ipython3",
   "version": "3.10.14"
  }
 },
 "nbformat": 4,
 "nbformat_minor": 2
}
