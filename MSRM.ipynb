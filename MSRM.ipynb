{
 "cells": [
  {
   "cell_type": "markdown",
   "metadata": {},
   "source": [
    "# 패키지"
   ]
  },
  {
   "cell_type": "code",
   "execution_count": 43,
   "metadata": {},
   "outputs": [],
   "source": [
    "import os"
   ]
  },
  {
   "cell_type": "code",
   "execution_count": 44,
   "metadata": {},
   "outputs": [],
   "source": [
    "import tensorflow as tf             # 텐서플로\n",
    "import tensorflow_addons as tfa     # 텐서플로 애드온\n",
    "import pandas as pd                 # 판다스"
   ]
  },
  {
   "cell_type": "markdown",
   "metadata": {},
   "source": [
    "# GPU 사용 설정"
   ]
  },
  {
   "cell_type": "code",
   "execution_count": 45,
   "metadata": {},
   "outputs": [],
   "source": [
    "# 사용 가능한 모든 GPU 리스트\n",
    "gpus = tf.config.list_physical_devices('GPU')\n",
    "\n",
    "# 사용할 프로세서 선택 : GPU\n",
    "if gpus:\n",
    "    try: tf.config.set_visible_devices(gpus[0], 'GPU')\n",
    "    except RuntimeError as e: print(e)"
   ]
  },
  {
   "cell_type": "markdown",
   "metadata": {},
   "source": [
    "# 데이터셋"
   ]
  },
  {
   "cell_type": "code",
   "execution_count": 46,
   "metadata": {},
   "outputs": [],
   "source": [
    "# 데이터셋 주소\n",
    "dataset_dir = os.path.join('.', 'datasets', 'MusicalSymbol-v.1.1.5')\n",
    "\n",
    "# CSV 파일 주소\n",
    "csv_dir = os.path.join(dataset_dir, 'label.csv')"
   ]
  },
  {
   "cell_type": "code",
   "execution_count": 47,
   "metadata": {},
   "outputs": [
    {
     "name": "stdout",
     "output_type": "stream",
     "text": [
      "Index([' staff-a4-0-0', ' staff-b4-0-0', ' staff-c5-0-0', ' staff-d4-0-0',\n",
      "       ' staff-d5-0-0', ' staff-e4-0-0', ' staff-e5-0-0', ' staff-f4-0-0',\n",
      "       ' staff-f5-0-0', ' staff-g4-0-0', ' staff-g5-0-0'],\n",
      "      dtype='object')\n"
     ]
    }
   ],
   "source": [
    "# csv 파일 불러오기\n",
    "df = pd.read_csv(csv_dir)\n",
    "\n",
    "# name을 정수값으로 추출\n",
    "df['name_int'] = df['name'].str.extract('(\\d+)').astype(int)\n",
    "\n",
    "# 정수값을 기준으로 정렬 및 인덱스 초기화\n",
    "df = df.sort_values('name_int')\n",
    "df.reset_index(drop=True, inplace=True)\n",
    "\n",
    "# 필요 없는 name, name_int 열 제거\n",
    "df = df.drop(columns=['name', 'name_int'])\n",
    "\n",
    "##########\n",
    "df = df.filter(like='staff')\n",
    "df = df.drop(columns=[' staff', ' staff-half-left', ' staff-half-right'])\n",
    "#\n",
    "print(df.columns)\n",
    "##########\n",
    "\n",
    "# pandas 데이터 프레임을 tensorflow 텐서로 변환\n",
    "df = tf.convert_to_tensor(df.values, dtype=tf.int32)"
   ]
  },
  {
   "cell_type": "code",
   "execution_count": 48,
   "metadata": {},
   "outputs": [],
   "source": [
    "@tf.function\n",
    "def make_data(img_path):\n",
    "    # 타겟 생성\n",
    "    image = tf.io.read_file(img_path)               # 파일 로드\n",
    "    image = tf.image.decode_png(image, channels=1)  # png 파일로 변환\n",
    "    image = tf.cast(image, tf.float32)              # uint8 -> float32\n",
    "    image = image / 255.0                           # 0~1 로 정규화\n",
    "    image = 1.0 - image                             # 흑백 이미지 반전\n",
    "\n",
    "    # 레이블 생성\n",
    "    lable_index = tf.strings.split(img_path, os.path.sep)[-1]           # 파일 이름 추출\n",
    "    lable_index = tf.strings.split(lable_index, '.')[0]                 # 확장자 제거\n",
    "    lable_index = tf.strings.to_number(lable_index, out_type=tf.int32)  # 숫자 변환\n",
    "    lable = tf.gather(df, lable_index-1)                                # df 에서 lable_index 번째 label 추출\n",
    "\n",
    "    # 타겟과 레이블 반환\n",
    "    return (image, lable)\n",
    "\n",
    "@tf.function\n",
    "def add_noise(image, label):\n",
    "    #noise = tf.random.normal(shape=tf.shape(image), mean=0.5, stddev=0.2, dtype=tf.float32)     # 정규 분포\n",
    "    noise = tf.random.uniform(shape=tf.shape(image), minval=-0.7, maxval=0.7, dtype=tf.float32)  # 균등 분포\n",
    "    image = image + noise\n",
    "    image = tf.clip_by_value(image, 0.0, 1.0)\n",
    "    return image, label\n",
    "\n",
    "@tf.function\n",
    "def rotate_image(image, label):\n",
    "    angle = tf.random.uniform([], minval=-15, maxval=15, dtype=tf.float32)\n",
    "    angle_rad = angle * (3.141592653589793 / 180.0)\n",
    "    image = tfa.image.rotate(image, angle_rad)\n",
    "    return image, label\n",
    "\n",
    "@tf.function\n",
    "def filter_dataset(image, label):\n",
    "    # label이 모두 0인 경우 필터링\n",
    "    return tf.math.reduce_any(label != 0)"
   ]
  },
  {
   "cell_type": "code",
   "execution_count": 49,
   "metadata": {},
   "outputs": [],
   "source": [
    "# 데이터셋 확인해보기\n",
    "import matplotlib.pyplot as plt\n",
    "\n",
    "def plot_images(dataset, num_images):\n",
    "    plt.figure(figsize=(10, 10))\n",
    "    for images, labels in dataset.take(1):\n",
    "        for i in range(num_images):\n",
    "            ax = plt.subplot(4, 8, i + 1)\n",
    "            plt.imshow(images[i], cmap='gray')\n",
    "            plt.axis('off')\n",
    "    plt.show()"
   ]
  },
  {
   "cell_type": "code",
   "execution_count": 50,
   "metadata": {},
   "outputs": [],
   "source": [
    "# 데이터셋 생성\n",
    "dataset = tf.data.Dataset.list_files(os.path.join(dataset_dir, '*.png'))\n",
    "\n",
    "# map\n",
    "dataset = dataset.map(make_data, num_parallel_calls=tf.data.experimental.AUTOTUNE)\n",
    "\n",
    "# map : rotate_image\n",
    "dataset = dataset.map(rotate_image, num_parallel_calls=tf.data.experimental.AUTOTUNE)\n",
    "\n",
    "# map : add_noise\n",
    "dataset = dataset.map(add_noise, num_parallel_calls=tf.data.experimental.AUTOTUNE)\n",
    "\n",
    "# filter\n",
    "dataset = dataset.filter(filter_dataset)\n",
    "\n",
    "# cache\n",
    "dataset = dataset.cache()\n",
    "\n",
    "# shuffle\n",
    "dataset = dataset.shuffle(buffer_size=25000)\n",
    "\n",
    "# repeat\n",
    "dataset = dataset.repeat(3)\n",
    "\n",
    "# train, validation\n",
    "ds_validation = dataset.take(320).batch(32).prefetch(tf.data.experimental.AUTOTUNE)\n",
    "ds_train = dataset.skip(320).batch(32)\n",
    "\n",
    "# 만들어진 데이터셋 확인\n",
    "#plot_images(ds_validation, 32)"
   ]
  },
  {
   "cell_type": "markdown",
   "metadata": {},
   "source": [
    "# 모델 학습"
   ]
  },
  {
   "cell_type": "code",
   "execution_count": null,
   "metadata": {},
   "outputs": [],
   "source": [
    "# 그래프 초기화\n",
    "tf.keras.backend.clear_session()\n",
    "\n",
    "# 모델 생성 및 학습\n",
    "with tf.device('/device:GPU:0'):\n",
    "    # 모델 생성\n",
    "    model = tf.keras.models.Sequential()\n",
    "    model.add(tf.keras.layers.Conv2D(32, (5, 5), activation='relu', input_shape=(192, 512, 1)))\n",
    "    model.add(tf.keras.layers.MaxPool2D(2, 2))\n",
    "    model.add(tf.keras.layers.Conv2D(64, (3, 3), activation='relu'))\n",
    "    model.add(tf.keras.layers.MaxPool2D(2, 2))\n",
    "    model.add(tf.keras.layers.Flatten())\n",
    "    model.add(tf.keras.layers.Dense(128, activation='relu'))\n",
    "    model.add(tf.keras.layers.Dense(11, activation='softmax'))\n",
    "\n",
    "    # 모델 컴파일\n",
    "    model.compile(optimizer='adam', loss='categorical_crossentropy', metrics=['accuracy'])\n",
    "    \n",
    "    # 모델 학습\n",
    "    model.fit(ds_train, epochs=10, validation_data=ds_validation)"
   ]
  }
 ],
 "metadata": {
  "kernelspec": {
   "display_name": "tensorflow_2.12",
   "language": "python",
   "name": "python3"
  },
  "language_info": {
   "codemirror_mode": {
    "name": "ipython",
    "version": 3
   },
   "file_extension": ".py",
   "mimetype": "text/x-python",
   "name": "python",
   "nbconvert_exporter": "python",
   "pygments_lexer": "ipython3",
   "version": "3.10.14"
  }
 },
 "nbformat": 4,
 "nbformat_minor": 2
}
